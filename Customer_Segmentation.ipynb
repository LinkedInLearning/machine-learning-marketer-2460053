{
 "cells": [
  {
   "cell_type": "markdown",
   "id": "a68e02b4",
   "metadata": {
    "pycharm": {
     "name": "#%% md\n"
    }
   },
   "source": [
    "# Imports"
   ]
  },
  {
   "cell_type": "code",
   "execution_count": null,
   "id": "823268a9",
   "metadata": {
    "pycharm": {
     "name": "#%%\n"
    }
   },
   "outputs": [],
   "source": [
    "from __future__ import division\n",
    "from datetime import datetime\n",
    "from sklearn.cluster import KMeans\n",
    "from IPython.display import display\n",
    "from typing import List\n",
    "\n",
    "import pandas as pd\n",
    "import numpy as np\n",
    "import plotly.graph_objs as go"
   ]
  },
  {
   "cell_type": "code",
   "execution_count": null,
   "id": "9212de0e",
   "metadata": {
    "code_folding": [],
    "pycharm": {
     "name": "#%%\n"
    }
   },
   "outputs": [],
   "source": [
    "# Pandas anweisen, immer alle Zeilen und Spalten eines Datenrahmens anzuzeigen\n",
    "pd.set_option('display.max_rows', None)\n",
    "pd.set_option('display.max_columns', None)"
   ]
  },
  {
   "cell_type": "code",
   "execution_count": null,
   "id": "7a1f6292",
   "metadata": {
    "pycharm": {
     "name": "#%%\n"
    }
   },
   "outputs": [],
   "source": [
    "# Set the random state for the whole notebook\n",
    "rand_state=1"
   ]
  },
  {
   "cell_type": "markdown",
   "id": "24094e13",
   "metadata": {
    "pycharm": {
     "name": "#%% md\n"
    }
   },
   "source": [
    "# Schritt 1: Grundlegende Datenaufbereitung / Exploration\n",
    "\n",
    "Datenquelle = Online Retail Dataset: alle Einkäufe, die für ein Online-Einzelhandelsunternehmen mit Sitz im Vereinigten Königreich während eines Zeitraums von etwa 12 Monaten getätigt wurden.\n",
    "\n",
    "Chen, Daqing, Sai Laing Sain, and Kun Guo. \"Data mining for the online retail industry: A case study of RFM model-based customer segmentation using data mining.\" Journal of Database Marketing & Customer Strategy Management 19.3 (2012): 197-208.\n",
    "\n",
    "Eine CSV-Datei wird mit Ihrem Kursmaterial bereitgestellt. Wenn Sie die Datei direkt von der Quelle herunterladen möchten, können Sie \"Online Retail.xlsx\" von der folgenden URL herunterladen und in eine CSV-Datei umwandeln: https://archive.ics.uci.edu/ml/datasets/online+retail"
   ]
  },
  {
   "cell_type": "markdown",
   "id": "1697ced8",
   "metadata": {
    "pycharm": {
     "name": "#%% md\n"
    }
   },
   "source": [
    "### Daten Lesen; Einfache Preprocessing"
   ]
  },
  {
   "cell_type": "code",
   "execution_count": null,
   "id": "658eaf86",
   "metadata": {
    "code_folding": [],
    "pycharm": {
     "name": "#%%\n"
    }
   },
   "outputs": [],
   "source": [
    "# Die Daten lesen\n",
    "# Ersetzen Sie \"OnlineRetail.csv\" durch den Pfad zu dem Ort, an dem Sie die Datei gespeichert haben\n",
    "# Es wird empfohlen, die Daten am gleichen Ort wie dieses Notebook zu speichern.\n",
    "df_data = pd.read_csv('OnlineRetail.csv', encoding='unicode-escape')\n",
    "df_data.head() # Show the first five rows"
   ]
  },
  {
   "cell_type": "code",
   "execution_count": null,
   "id": "8ef51bff",
   "metadata": {
    "code_folding": [
     0
    ],
    "pycharm": {
     "name": "#%%\n"
    }
   },
   "outputs": [],
   "source": [
    "# Show a random sample of 20 rows\n",
    "df_data.sample(20)"
   ]
  },
  {
   "cell_type": "code",
   "execution_count": null,
   "id": "4ad558e7",
   "metadata": {
    "code_folding": [
     0
    ],
    "pycharm": {
     "name": "#%%\n"
    }
   },
   "outputs": [],
   "source": [
    "# Display basic information about the data (e.g. data types)\n",
    "df_data.info()"
   ]
  },
  {
   "cell_type": "code",
   "execution_count": null,
   "id": "193dc71f",
   "metadata": {
    "code_folding": [
     0
    ],
    "pycharm": {
     "name": "#%%\n"
    }
   },
   "outputs": [],
   "source": [
    "# nans entfernen (nur für CustomerID, Description ist kein Problem)\n",
    "print(df_data.isna().sum())\n",
    "df_data.dropna(inplace=True, subset=['CustomerID'])\n",
    "# By specifying inplace=True, we manipulate df_data directly. Otherwise the function would only return a copy of \n",
    "# the dataframe, which we would need to save somehow, e.g. with: \n",
    "# df_data = df_data.dropna(subset=['CustomerID'])\n",
    "f\"Data shape after dropping nans: {df_data.shape}\""
   ]
  },
  {
   "cell_type": "code",
   "execution_count": null,
   "id": "11e86faa",
   "metadata": {
    "code_folding": [
     0
    ],
    "pycharm": {
     "name": "#%%\n"
    }
   },
   "outputs": [],
   "source": [
    "# Konvertiert den Typ von 'InvoiceDate' in datetime\n",
    "df_data.InvoiceDate = pd.to_datetime(df_data.InvoiceDate)\n",
    "f\"Min/max dates: {df_data.InvoiceDate.min()}, {df_data.InvoiceDate.max()}\""
   ]
  },
  {
   "cell_type": "code",
   "execution_count": null,
   "id": "14f5689e",
   "metadata": {
    "code_folding": [],
    "pycharm": {
     "name": "#%%\n"
    }
   },
   "outputs": [],
   "source": [
    "# Doppelte Zeilen entfernen\n",
    "duplicates = df_data.duplicated(keep='first')\n",
    "df_data = df_data[~duplicates]\n",
    "f\"Num duplicates: {duplicates.sum()}. Data shape after dropping duplicates: {df_data.shape}\""
   ]
  },
  {
   "cell_type": "markdown",
   "id": "57bc7fc4",
   "metadata": {
    "pycharm": {
     "name": "#%% md\n"
    }
   },
   "source": [
    "### Daten Verstehen"
   ]
  },
  {
   "cell_type": "code",
   "execution_count": null,
   "id": "1648ffb4",
   "metadata": {
    "code_folding": [],
    "pycharm": {
     "name": "#%%\n"
    }
   },
   "outputs": [],
   "source": [
    "# Die numerischen Werte anschauen\n",
    "print(f\"Number of customers: {df_data.CustomerID.nunique()}, number of transactions: {df_data.InvoiceNo.nunique()}\")\n",
    "print(f\"Description of numeric values:\")\n",
    "df_data[['Quantity', 'UnitPrice']].describe().round(3) "
   ]
  },
  {
   "cell_type": "markdown",
   "id": "7261a8cb",
   "metadata": {
    "pycharm": {
     "name": "#%% md\n"
    }
   },
   "source": [
    "Es gibt einige Artikel, bei denen UnitPrice == 0 ist. Lassen Sie uns herausfinden, warum."
   ]
  },
  {
   "cell_type": "code",
   "execution_count": null,
   "id": "cdcb4505",
   "metadata": {
    "code_folding": [],
    "pycharm": {
     "name": "#%%\n"
    },
    "scrolled": true
   },
   "outputs": [],
   "source": [
    "# Explore data where UnitPrice == 0\n",
    "df_zero_price = df_data.query('UnitPrice == 0')\n",
    "# Alternativ\n",
    "# df_zero_price = df_data[df_data.UnitPrice == 0]\n",
    "print(f\"Num transactions where UnitPrice == 0: {len(df_zero_price)}\")\n",
    "df_zero_price"
   ]
  },
  {
   "cell_type": "markdown",
   "id": "15f15944",
   "metadata": {
    "pycharm": {
     "name": "#%% md\n"
    }
   },
   "source": [
    "Es gibt nur 40 Zeilen, in denen UnitPrice == 0 ist, so dass wir sie getrost weglassen können."
   ]
  },
  {
   "cell_type": "code",
   "execution_count": null,
   "id": "acb01c50",
   "metadata": {
    "code_folding": [],
    "pycharm": {
     "name": "#%%\n"
    }
   },
   "outputs": [],
   "source": [
    "# Remove transactions where UnitPrice == 0\n",
    "df_data = df_data.query('UnitPrice > 0')\n",
    "print(f\"Data shape after dropping transactions where UnitPrice == 0: {df_data.shape}\")"
   ]
  },
  {
   "attachments": {
    "image.png": {
     "image/png": "[encoded data removed]"
    }
   },
   "cell_type": "markdown",
   "id": "311fe717",
   "metadata": {
    "pycharm": {
     "name": "#%% md\n"
    }
   },
   "source": [
    "__Challenge: Arbeiten mit Pandas query()__\n",
    "\n",
    "Pandas query() ist eine experimentelle neue Funktion mit einer (meiner Meinung nach) einfachen und intuitiven Syntax. In der Pandas-Dokumentation [1] heißt es außerdem, dass es bei großen Datensätzen (über 200.000 Zeilen, wie wir sie haben) einen kleinen Geschwindigkeitszuwachs gegenüber der Python-Indizierung bringen kann. \n",
    "\n",
    "Wenn Sie noch nie mit query() gearbeitet haben, finden Sie hier einige Beispiele für die Verwendung:\n",
    "\n",
    "- String ist gleich: df.query('Land == \"Australien\"')\n",
    "- Mathematische Operationen: df.query('Einkommen_Main+Einkommen_Sonstige > 60000'), df.query('Punktzahl_Dezimal * 100 != Punktzahl_Prozent') # z.B. um zu sehen, welche prozentualen Punktzahlen nicht korrekt berechnet wurden\n",
    "\n",
    "- Vergleich mit einem Variablennamen: favourite_song='Gimme Shelter', df.query('Song == @favourite_song')\n",
    "- Prüfen, ob Element in einer Liste: df.query(\"Zutat in ['Eierr','Mehl']\")\n",
    "\n",
    "Vervollständigen Sie mit diesen Hinweisen die folgenden Aufgaben (Um Ihr Notebook nicht zu verlangsamen, verwenden Sie .head(), um nur die ersten 5 Zeilen eines jeden Ergebnisses anzuzeigen.):\n",
    "\n",
    "- Transaktionen anzeigen, die *nicht* in dem 'United Kingdom' stattgefunden haben.\n",
    "- Transaktionen anzeigen, bei denen der Wert (Menge * Stückpreis) £2000 übersteigt (alle Transaktionen sind in £).\n",
    "- Eine Variable definieren, die das Produkt '23168' bezeichnet (Achtung: Der StockCode ist eine Zeichenkette und keine Zahl, daher muss er in Anführungszeichen angegeben werden). Transaktionen für diesen Artikel anzeigen.\n",
    "- Transaktionen für der folgenden Artikel anzeigen: ['CHILDS GARDEN TROWEL PINK',\n",
    " 'CREAM SWEETHEART MINI CHEST',\n",
    " 'LUNCH BAG CARS BLUE',\n",
    " 'WALL ART DOLLY GIRL ',\n",
    " 'CHRISTMAS TREE HANGING GOLD']\n",
    " \n",
    " \n",
    "Schreiben Sie Ihren Code in eine neue Zelle, unten. Sie können eine neue Zelle hinzufügen, indem Sie \"Esc\" gedrückt halten und die \"B\"-Taste drücken, oder klicken Sie einfach auf die Plus-Schaltfläche im oberen Menü, wie so:\n",
    "\n",
    "![image.png](attachment:image.png)\n",
    "\n",
    "Die Lösung finden Sie unten.\n",
    "\n",
    "[1] https://pandas.pydata.org/pandas-docs/stable/user_guide/indexing.html Siehe den Abschnitt 'Performance of query()'."
   ]
  },
  {
   "cell_type": "code",
   "execution_count": null,
   "id": "135af126",
   "metadata": {
    "code_folding": [],
    "pycharm": {
     "name": "#%%\n"
    }
   },
   "outputs": [],
   "source": [
    "# Challenge: Working with Pandas query() - solutions\n",
    "print(\"Transactions which did not occur in the United Kingdom:\")\n",
    "display(df_data.query('Country != \"United Kingdom\"').head())\n",
    "\n",
    "print(\"\\nTransactions where the total value exceeded £2000:\")\n",
    "display(df_data.query('Quantity*UnitPrice > 2000').head())\n",
    "\n",
    "print(\"\\nTransactions for product 23168:\")\n",
    "stock_code = '23168'\n",
    "display(df_data.query('StockCode == @stock_code').head())\n",
    "\n",
    "print(\"\\nTransactions for any of a given list of products:\")\n",
    "product_list = ['CHILDS GARDEN TROWEL PINK', 'CREAM SWEETHEART MINI CHEST', 'LUNCH BAG CARS BLUE',\n",
    "                'WALL ART DOLLY GIRL ', 'CHRISTMAS TREE HANGING GOLD']\n",
    "display(df_data.query(f'Description in {product_list}').head())\n",
    "\n",
    "# Notice the use of display() here. We didn’t need it when viewing dataframes before, because it was always the\n",
    "# last line of the cell, which Jupyter displays automatically. We don't need it on the last line of this cell,\n",
    "# but I left it here for visual consistency."
   ]
  },
  {
   "cell_type": "code",
   "execution_count": null,
   "id": "9700dbe7",
   "metadata": {
    "code_folding": [],
    "pycharm": {
     "name": "#%%\n"
    }
   },
   "outputs": [],
   "source": [
    "# Explore the UnitPrice values above 95th quantile\n",
    "(df_data\n",
    " .drop_duplicates(['StockCode', 'UnitPrice'])\n",
    " .query('UnitPrice > UnitPrice.quantile(.95)')\n",
    " .sort_values(by='UnitPrice', ascending=False)\n",
    " .head(100)\n",
    ")"
   ]
  },
  {
   "cell_type": "code",
   "execution_count": null,
   "id": "b186b730",
   "metadata": {
    "code_folding": [],
    "pycharm": {
     "name": "#%%\n"
    }
   },
   "outputs": [],
   "source": [
    "# Explore UnitPrice per Description\n",
    "(df_data\n",
    " .groupby('Description')\n",
    " .mean()\n",
    " .sort_values(by='UnitPrice', ascending=False)\n",
    " .head(25)\n",
    ")\n",
    "\n",
    "# A note on groupby(), for the unsure:\n",
    "# groupby() splits the data frame into 'chunks', one for each unique value in the given column (here 'Description').\n",
    "# Then for each chunk, it applies the function after the groupby; here it gets the mean() per column, per chunk.\n",
    "# The result is a dataframe with an index containing all the descriptions, and then three numeric columns,\n",
    "# containing the mean Quantity, UnitPrice and CustomerID per description (clearly mean CustomerID makes no sense)\n",
    "# We then sort this data frame by ascending UnitPrice, and display the first 25 rows"
   ]
  },
  {
   "cell_type": "code",
   "execution_count": null,
   "id": "ac34a864",
   "metadata": {
    "code_folding": [],
    "pycharm": {
     "name": "#%%\n"
    }
   },
   "outputs": [],
   "source": [
    "# Let's find the stock codes which seem to be causing the bulk of the strange values\n",
    "[sc for sc in df_data.StockCode.unique() if not sc.isnumeric()]"
   ]
  },
  {
   "cell_type": "code",
   "execution_count": null,
   "id": "549fe68f",
   "metadata": {
    "code_folding": [],
    "pycharm": {
     "name": "#%%\n"
    }
   },
   "outputs": [],
   "source": [
    "# Let's refine the unusual stock codes\n",
    "[sc for sc in df_data.StockCode.unique() if not sc[:-1].isnumeric()]"
   ]
  },
  {
   "cell_type": "markdown",
   "id": "843fe344",
   "metadata": {
    "pycharm": {
     "name": "#%% md\n"
    }
   },
   "source": [
    "__Challenge: Indizierung in Python (für die Ungeübte)__\n",
    "\n",
    "Wenn Sie bereits mit der Indizierung in Python vertraut sind, können Sie diese Zelle überspringen. "
   ]
  },
  {
   "cell_type": "code",
   "execution_count": null,
   "id": "3702c88e",
   "metadata": {
    "code_folding": [],
    "pycharm": {
     "name": "#%%\n"
    }
   },
   "outputs": [],
   "source": [
    "# Challenge: Python indexing for the unfamiliar:\n",
    "\n",
    "# The indexing used in sc[:-1], above, works as follows:\n",
    "# A number inside the brackets would indicate only the character at that position.\n",
    "# eg. 'Hello World'[0] selects 'H'\n",
    "# Notice that indexes start with 0, not 1. So 'Hello World' is 11 characters, with indexes [0,1,2,3,4,5,6,7,8,9,10]\n",
    "# A negative number counts backwards, e.g. 'Hello World'[-1] selects 'd' (it's the same as 'Hello World'[10]\n",
    "# but saves you from having to count the length of the string and subtract 1)\n",
    "# You can specify a start and end range using : and giving a start and end value.\n",
    "# This will select from (including) the start value up to (but excluding) the end value\n",
    "# e.g. 'Hello World'[1:-1] and 'Hello World'[1:10] will both select 'ello Worl'\n",
    "# You don't have to include a start AND end value; you can leave out either, as long as you include the :\n",
    "# e.g. for a stock code sc='85123A', we get sc[:-1] selects '85123'\n",
    "\n",
    "# Feel free to use this cell to write some examples and play around. Try to answer these questions:\n",
    "# If you have a 5 letter string, what's the highest index you can use?\n",
    "# Why is it smaller than the length of the string?\n",
    "# What will you get from 'abcdefghijklmnop'[4:-4]?\n",
    "# What is your full name, ignoring the first two and last three letters?\n",
    "# What will be the results of '123abc'.isnumeric()? What about '123abc'[:3].isnumeric()\n",
    "# What about '123abc'.isalpha()? Or '123abc'[3:].isalpha()? (isalpha() checks whether a string is all alphabetical)\n",
    "# What happens if you select an end index which is equal to or greater than the length of your string? Try it!\n",
    "\n",
    "# If you run into an IndexError while experimenting, perfect! That means you're doing it right. \n",
    "# But errors are ugly, so when you're finished, you can clear your output by clicking this cell\n",
    "# and selecting from the top menu Cell > Current Outputs > Clear)"
   ]
  },
  {
   "cell_type": "code",
   "execution_count": null,
   "id": "c929f153",
   "metadata": {
    "code_folding": [],
    "pycharm": {
     "name": "#%%\n"
    }
   },
   "outputs": [],
   "source": [
    "# Challenge: Python indexing for the unfamiliar - solution:\n",
    "# If you have a 5 letter string, what's the highest index you can use? --> 4\n",
    "# Why is it smaller than the length of the string? --> Because indexes start at 0, i.e. 'Hello' = [0,1,2,3,4]\n",
    "# What will you get from 'abcdefghijklmnop'[4:-4]? --> 'efghijkl'\n",
    "# What is your name, ignoring the first two and last three letters? --> 'Katherine'[2:-3] --> 'ther'\n",
    "# What will be the results of '123abc'.isnumeric()? What about '123abc'[:3].isnumeric() --> False, True\n",
    "# What about '123abc'.isalpha()? Or '123abc'[3:].isalpha()? --> False, True\n",
    "# What happens if you select an end index which is equal to or greater than the length of your string? Try it!\n",
    "# --> '123abc'[10] --> IndexError: string index out of range"
   ]
  },
  {
   "cell_type": "code",
   "execution_count": null,
   "id": "f89961ce",
   "metadata": {
    "code_folding": [],
    "pycharm": {
     "name": "#%%\n"
    }
   },
   "outputs": [],
   "source": [
    "# Display the data for a specific StockCode of interest\n",
    "df_data.query(\"StockCode == '15056BL'\")\n",
    "# Alternativ: \n",
    "# df_data[df_data.StockCode == '15056BL']"
   ]
  },
  {
   "cell_type": "code",
   "execution_count": null,
   "id": "73bece57",
   "metadata": {
    "code_folding": [],
    "pycharm": {
     "name": "#%%\n"
    }
   },
   "outputs": [],
   "source": [
    "# Describe the UnitPrice distribution for the unusual stock codes\n",
    "unusual_codes = ['POST', 'D', 'C2', 'M', 'BANK CHARGES', 'PADS', 'DOT']\n",
    "for sc in unusual_codes:\n",
    "    # The use of \\n in the string prints a newline, which is just done for my own visual preferencce\n",
    "    print(f'\\nData described, where StockCode == {sc}')\n",
    "    # We need 'display' since we are looping, so we can't just rely on Jupyter outputting the last line of the cell\n",
    "    display(df_data.query(f\"StockCode == '{sc}'\")[['UnitPrice']]\n",
    "           .describe()\n",
    "           .round(3)\n",
    "           .T)\n",
    "            # 'T' for 'Transpose' flips the dataframe from being tall and skinny to short and wide.\n",
    "            # You can re-run the cell with a # in front of the .T, if you are curious how it would look."
   ]
  },
  {
   "cell_type": "code",
   "execution_count": null,
   "id": "4bafb8f4",
   "metadata": {
    "code_folding": [],
    "pycharm": {
     "name": "#%%\n"
    }
   },
   "outputs": [],
   "source": [
    "# Do only a small group of customers use the unusual stock codes? Part 1: Customers per Stock Code\n",
    "sc_unusual = df_data.query('StockCode in @unusual_codes')\n",
    "sc_normal = df_data.query('StockCode not in @unusual_codes')\n",
    "\n",
    "print('Unique Customers per Stock Code: unusual Stock Codes')\n",
    "display(sc_unusual\n",
    "        .groupby('StockCode')\n",
    "        .agg({'CustomerID': 'nunique'})\n",
    "       )\n",
    "\n",
    "print('Overview Unique Customers per Stock Code: Normal Stock Codes')\n",
    "display(sc_normal\n",
    "        .groupby('StockCode')\n",
    "        .agg({'CustomerID': 'nunique'})\n",
    "        .describe()\n",
    "        .round(3)\n",
    "       )\n",
    "\n",
    "# A note on agg(), for the unfamiliar:\n",
    "# We've seen that Pandas' groupby() splits the dataframe into one chunk per unique value in the given column.\n",
    "# We then have to perform some kind of aggregation on eacch of those chunks. So far we've used mean();\n",
    "# Here, we use agg() and specify a dictionary of ColumnName: function.\n",
    "# We are asking: for  each chunk of the data representing one StockCode, how many unique CustomerIDs are there?\n",
    "# Note that because we only specify one column:function pair here, we'll only get one column back as a result.\n",
    "# However, one can use multiple pairs, to specify different aggregations for different columns. "
   ]
  },
  {
   "cell_type": "markdown",
   "id": "68d23dac",
   "metadata": {
    "pycharm": {
     "name": "#%% md\n"
    }
   },
   "source": [
    "__Challenge: Anzeige der Anzahl der eindeutigen StockCodes pro Kunde__\n",
    "\n",
    "In der letzten Zelle teilten wir die Daten in sc_unusual, d. h. alle Transaktionen mit ungewöhnlichen Bestandscodes, und sc_normal, d. h. alle anderen. Dann erhielten wir für jeden StockCode die Anzahl der eindeutigen Kunden-IDs. Bei den normalen Lagerbestandsdaten hätte dies zu einer großen Anzahl von Zeilen geführt, so dass wir eine describe()-Funktion hinzugefügt haben, um die Ergebnisse zusammenzufassen.\n",
    "\n",
    "Diesmal ist die Logik genau umgekehrt. Sowohl für sc_unusual als auch für sc_normal wollen wir die Anzahl der eindeutigen Bestandscodes pro CustomerID anzeigen. Und da es sehr viele CustomerIDs gibt, wollen wir wieder die Funktion summary verwenden. Sind Sie der Herausforderung gewachsen? Fügen Sie eine neue Zelle hinzu (Esc+B) und probieren Sie es aus, bevor Sie mit dem Video fortfahren. Viel Erfolg!"
   ]
  },
  {
   "cell_type": "code",
   "execution_count": null,
   "id": "1d0dbec2",
   "metadata": {
    "code_folding": [],
    "pycharm": {
     "name": "#%%\n"
    }
   },
   "outputs": [],
   "source": [
    "# Solution: Do only a small group of customers use the unusual stock codes? Part 2: Stock Codes per Customer\n",
    "print('Unique Stock Codes per Customer: unusual Stock Codes')\n",
    "display(sc_unusual\n",
    "        .groupby('CustomerID')\n",
    "        .agg({'StockCode': 'nunique'})\n",
    "        .describe()\n",
    "        .round(3)\n",
    "       )\n",
    "\n",
    "print('Overview Unique Stock Codes per Customer: Normal Stock Codes')\n",
    "display(sc_normal\n",
    "        .groupby('CustomerID')\n",
    "        .agg({'StockCode': 'nunique'})\n",
    "        .describe()\n",
    "        .round(3)\n",
    "       )\n"
   ]
  },
  {
   "cell_type": "markdown",
   "id": "ea54bf8b",
   "metadata": {
    "pycharm": {
     "name": "#%% md\n"
    }
   },
   "source": [
    "Die ungewöhnlichen Lagercodes haben im Allgemeinen nur wenige Kunden (mit Ausnahme von \"M\" und \"POST\"), während der Durchschnitt für die anderen Lagercodes bei etwa 72 liegt. Außerdem haben die Kunden in den Daten zu den anormalen Codes jeweils nur etwa einen Lagercode, während die Kunden in den übrigen Daten jeweils etwa 61 Codes haben.  Mit anderen Worten, nur eine sehr kleine Anzahl von Kunden verursacht den Großteil der seltsamen Transaktionen. In Anbetracht der Tatsache, dass diese Transaktionen offensichtlich eher mit Dienstleistungen als mit Produkten zusammenhängen, sollte das Unternehmen diese Kunden getrennt behandeln. Daher werden wir alle Zeilen mit diesen seltsamen Lagercodes streichen."
   ]
  },
  {
   "cell_type": "code",
   "execution_count": null,
   "id": "f7aca7d3",
   "metadata": {
    "code_folding": [],
    "pycharm": {
     "name": "#%%\n"
    }
   },
   "outputs": [],
   "source": [
    "# Remove the rows with unusual stock codes\n",
    "df_data = df_data.query('StockCode not in @unusual_codes')\n",
    "print(f\"After dropping rows with unusual stock codes, data shape: {df_data.shape}. Summary:\")\n",
    "display(df_data.describe().round(3))\n",
    "print(f\"Number of customers: {df_data.CustomerID.nunique()}, number of transactions: {df_data.InvoiceNo.nunique()}\")"
   ]
  },
  {
   "cell_type": "markdown",
   "id": "9a40df6c",
   "metadata": {
    "pycharm": {
     "name": "#%% md\n"
    }
   },
   "source": [
    "__Challenge: Erkunden Sie die Mengenwerte über dem 95. Perzentil__\n",
    "\n",
    "Bisher haben wir die Transaktionen mit den obersten 5 % der UnitPrice-Werte angezeigt. Können Sie dies wiederholen, aber für die Menge? Wenn Sie einen Hinweis benötigen, klappen Sie die nächste Zelle auf."
   ]
  },
  {
   "cell_type": "code",
   "execution_count": null,
   "id": "9b7f3c6a",
   "metadata": {
    "code_folding": [
     0
    ],
    "pycharm": {
     "name": "#%%\n"
    }
   },
   "outputs": [],
   "source": [
    "# Challenge Hint\n",
    "# The solution could include some of these steps, but not necessarily in this order: \n",
    "# - Sorting values \n",
    "# - Querying or otherwise slicing the dataframe df_data\n",
    "# - Taking the dataframe head()\n",
    "# - Using the quantile() function\n",
    "# - Wrapping these steps in brackets () to make a pipeline"
   ]
  },
  {
   "cell_type": "code",
   "execution_count": null,
   "id": "71dc6f75",
   "metadata": {
    "code_folding": [],
    "pycharm": {
     "name": "#%%\n"
    }
   },
   "outputs": [],
   "source": [
    "# Solution: Explore the Quantity values above 95th percentile\n",
    "(df_data\n",
    " .drop_duplicates(['StockCode', 'UnitPrice'])\n",
    " .query('Quantity > Quantity.quantile(.95)')\n",
    " .sort_values(by='Quantity', ascending=False)\n",
    " .head(100)\n",
    ")"
   ]
  },
  {
   "cell_type": "markdown",
   "id": "25f0a936",
   "metadata": {
    "pycharm": {
     "name": "#%% md\n"
    }
   },
   "source": [
    "__Challenge: Erforschen Menge pro Beschreibung__\n",
    "    \n",
    "Zuvor haben wir den durchschnittlichen Stückpreis pro Beschreibung angezeigt. Können Sie dies wiederholen, aber für die Menge? Wenn Sie einen Hinweis benötigen, klappen Sie die nächste Zelle auf."
   ]
  },
  {
   "cell_type": "code",
   "execution_count": null,
   "id": "acfe0d51",
   "metadata": {
    "code_folding": [
     0
    ],
    "pycharm": {
     "name": "#%%\n"
    }
   },
   "outputs": [],
   "source": [
    "# Challenge Hint\n",
    "# The solution could include some of these steps, but not necessarily in this order: \n",
    "# Grouping the data\n",
    "# Sorting values\n",
    "# Calculating a mean()\n",
    "# Viewing the dataframe head()"
   ]
  },
  {
   "cell_type": "code",
   "execution_count": null,
   "id": "3d83c9ec",
   "metadata": {
    "code_folding": [],
    "pycharm": {
     "name": "#%%\n"
    }
   },
   "outputs": [],
   "source": [
    "# Solution: Explore Quantity per Description\n",
    "(df_data\n",
    " .groupby('Description')\n",
    " .mean()\n",
    " .sort_values(by='Quantity', ascending=False)\n",
    " .head(20)\n",
    ")"
   ]
  },
  {
   "cell_type": "markdown",
   "id": "54585845",
   "metadata": {
    "pycharm": {
     "name": "#%% md\n"
    }
   },
   "source": [
    "Es gibt nichts Ungewöhnliches an den großen Werten für Menge, also behalten wir diese Zeilen bei; sie enthalten legitime Informationen, die wir modellieren müssen.\n",
    "\n",
    "Bei der ursprünglichen Beschreibung der numerischen Daten hatte die Menge einen Höchstwert von 80995 und einen Mindestwert von -80995. Woran kann das Ihrer Meinung nach liegen?"
   ]
  },
  {
   "cell_type": "code",
   "execution_count": null,
   "id": "2a793b52",
   "metadata": {
    "pycharm": {
     "name": "#%%\n"
    }
   },
   "outputs": [],
   "source": [
    "# Check for some specific, suspicious values\n",
    "df_data.query('Quantity in [80995.000000, -80995.000000]')"
   ]
  },
  {
   "cell_type": "markdown",
   "id": "29ebb9f5",
   "metadata": {
    "pycharm": {
     "name": "#%% md\n"
    }
   },
   "source": [
    "Eine Rechnungsnummer mit \"C\" bedeutet eine Rücksendung:"
   ]
  },
  {
   "cell_type": "code",
   "execution_count": null,
   "id": "03a0df8a",
   "metadata": {
    "pycharm": {
     "name": "#%%\n"
    }
   },
   "outputs": [],
   "source": [
    "returns = df_data.query('InvoiceNo.str.startswith(\"C\")')\n",
    "# Alternativ: returns = df_data[df_data['InvoiceNo'].str.startswith('C')]\n",
    "returns.sample(5)"
   ]
  },
  {
   "cell_type": "markdown",
   "id": "a84768b4",
   "metadata": {
    "pycharm": {
     "name": "#%% md\n"
    }
   },
   "source": [
    "... was wir überprüfen können, indem wir prüfen, ob ein Wert in der Spalte \"Menge\" größer als 0 ist, wenn die Rechnungsnummer mit \"C\" beginnt: "
   ]
  },
  {
   "cell_type": "code",
   "execution_count": null,
   "id": "42baeece",
   "metadata": {
    "pycharm": {
     "name": "#%%\n"
    }
   },
   "outputs": [],
   "source": [
    "print((returns.Quantity.values > 0).any())"
   ]
  },
  {
   "cell_type": "code",
   "execution_count": null,
   "id": "2bd0838b",
   "metadata": {
    "code_folding": [],
    "pycharm": {
     "name": "#%%\n"
    }
   },
   "outputs": [],
   "source": [
    "# Define is_return_without_purchase, for identifying such transactions\n",
    "def is_return_without_purchase(df: pd.DataFrame, df_row: pd.Series) -> bool:\n",
    "    \"\"\"\n",
    "    Determine whether a transaction is a return without a corresponding purchase    \n",
    "    Args:\n",
    "        df: a dataframe of transaction data, including at least the columns 'CustomerID', Quantity' and 'StockCode'\n",
    "        df_row: a row of a dataframe of transaction data, also including these columns\n",
    "    Returns:\n",
    "        True if a transaction is a return without a corresponding purchase, else False\n",
    "    \"\"\"\n",
    "    if df_row['Quantity'] > 0:\n",
    "        return False # Can't be a return without purchase as it's not a return\n",
    "    else:\n",
    "        customer_id = df_row['CustomerID']\n",
    "        quantity = df_row['Quantity']\n",
    "        stock_code = df_row['StockCode']\n",
    "\n",
    "        matching_purchases = df[\n",
    "            (df['CustomerID'] == customer_id) & (df['StockCode'] == stock_code) & (df['Quantity'] == abs(quantity))\n",
    "        ]\n",
    "\n",
    "        if len(matching_purchases) > 0:\n",
    "            return False # Can't be a return without purchase as corresponding purchases were found\n",
    "        else:\n",
    "            return True"
   ]
  },
  {
   "cell_type": "code",
   "execution_count": null,
   "id": "6a3b5ab9",
   "metadata": {
    "pycharm": {
     "name": "#%%\n"
    }
   },
   "outputs": [],
   "source": [
    "# Identify whether returns have purchases or not\n",
    "returns = df_data.query('Quantity <= 0')\n",
    "returns = returns.copy(deep=True) # Create a new copy, to avoid Pandas SettingWithCopyWarning\n",
    "purchases = df_data.query('Quantity > 0')\n",
    "\n",
    "returns['return_without_purchase'] = returns.apply(\n",
    "    lambda x: is_return_without_purchase(df=purchases, df_row=x), axis=1)"
   ]
  },
  {
   "cell_type": "code",
   "execution_count": null,
   "id": "913b63a3",
   "metadata": {
    "pycharm": {
     "name": "#%%\n"
    }
   },
   "outputs": [],
   "source": [
    "# Combine return details with original dataframe\n",
    "df_data = df_data.merge(\n",
    "    returns[['return_without_purchase', 'InvoiceNo', 'InvoiceDate', 'StockCode', 'Quantity', 'UnitPrice']],\n",
    "    how='left',\n",
    "    on=['InvoiceNo', 'InvoiceDate', 'StockCode', 'Quantity', 'UnitPrice']\n",
    ")\n",
    "df_data.fillna(False, inplace=True)\n",
    "print(\"Value counts for 'return_without_purchase:'\", \\\n",
    "      df_data.return_without_purchase.value_counts())"
   ]
  },
  {
   "cell_type": "code",
   "execution_count": null,
   "id": "58f9745b",
   "metadata": {
    "pycharm": {
     "name": "#%%\n"
    }
   },
   "outputs": [],
   "source": [
    "# Remove the returns without purchases\n",
    "df_data = df_data[~df_data.return_without_purchase]\n",
    "df_data.drop(columns=['return_without_purchase'], inplace=True)"
   ]
  },
  {
   "cell_type": "code",
   "execution_count": null,
   "id": "766228b2",
   "metadata": {
    "pycharm": {
     "name": "#%%\n"
    }
   },
   "outputs": [],
   "source": [
    "# Save the preprocessed data as a csv; we'll need it in the next notebook\n",
    "df_data.to_csv(\"OnlineRetail_Preprocessed.csv\", index=False)"
   ]
  },
  {
   "cell_type": "code",
   "execution_count": null,
   "id": "19793cb2",
   "metadata": {
    "code_folding": [],
    "pycharm": {
     "name": "#%%\n"
    }
   },
   "outputs": [],
   "source": [
    "# Get the number of invoices per day\n",
    "df_data['InvoiceDate_Date'] = df_data['InvoiceDate'].dt.normalize()\n",
    "counts = (df_data\n",
    "          .groupby('InvoiceDate_Date')\n",
    "          .count()\n",
    "          .reset_index()\n",
    "         )\n",
    "# A note on reset_index(), and it's usage above, for the unsure:\n",
    "# Our groupby().count() produces a DataFrame with a so-called 'multi-level Index', which reset_index() flattens\n",
    "# (you can picture the effect by adding a cell and simply displaying the pipeline with and without reset_index()). \n",
    "# Flattening isn't always necessary, but here it is, as it will convert 'InvoiceDate_Date' from being an index \n",
    "# for the grouping, to being a column again."
   ]
  },
  {
   "cell_type": "code",
   "execution_count": null,
   "id": "28eff905",
   "metadata": {
    "code_folding": [],
    "pycharm": {
     "name": "#%%\n"
    }
   },
   "outputs": [],
   "source": [
    "# Display the number of invoices per day\n",
    "\n",
    "# import plotly.graph_objects as go - just a reminder, this is how we imported plotly graph objects already\n",
    "fig = go.Figure()\n",
    "fig.add_trace(\n",
    "    go.Bar(x=counts['InvoiceDate_Date'], y=counts['InvoiceNo'])\n",
    ")\n",
    "\n",
    "fig.update_layout(xaxis_title='Date',\n",
    "                  yaxis_title='Invoices',\n",
    "                  title=f'Count of Invoices Recorded per Day',\n",
    "                  hovermode='x unified')\n",
    "\n",
    "# Feel free to re-run this cell with different hover modes to control the label style.\n",
    "# Choose between 'closest', 'x', 'y', 'x unified' (my favourite) or 'y unified'\n",
    "# More details here: https://plotly.com/python/hover-text-and-formatting/"
   ]
  },
  {
   "cell_type": "markdown",
   "id": "fe37a2c1",
   "metadata": {
    "pycharm": {
     "name": "#%% md\n"
    }
   },
   "source": [
    "Es gibt Tage ohne Rechnungen. Dies könnte bedeuten, dass an diesem Tag wirklich keine Verkäufe getätigt wurden, oder es könnte ein Problem mit der Datenerfassung vorliegen. Idealerweise könnten wir das Unternehmen bitten, seine Pipelines zu überprüfen, aber wir können auch mit den Daten arbeiten, die wir haben. \n",
    "\n",
    "Wir werden den oben beschriebenen Vorgang des Plottens ziemlich oft wiederholen. Also verpacken wir sie in eine Funktion"
   ]
  },
  {
   "cell_type": "code",
   "execution_count": null,
   "id": "ce75f831",
   "metadata": {
    "code_folding": [],
    "pycharm": {
     "name": "#%%\n"
    }
   },
   "outputs": [],
   "source": [
    "# Define plot_histogram\n",
    "def plot_histogram(data: pd.Series, x_title: str, y_title: str, title: str) -> None:\n",
    "    \"\"\"\n",
    "    Plot a histogram given a pandas data series\n",
    "    \n",
    "    Args:\n",
    "        data: the pandas series, e.g. df[some_column]\n",
    "        x_title, y_title: titles for the x and y axes, respectively\n",
    "        title: title of the plott itself\n",
    "    \"\"\"\n",
    "    fig = go.Figure()\n",
    "    fig.add_trace(\n",
    "        go.Histogram(x=data)\n",
    "    )\n",
    "        \n",
    "    fig.update_layout(xaxis_title=x_title,\n",
    "                      yaxis_title=y_title,\n",
    "                      title=title,\n",
    "                      hovermode='x unified')\n",
    "    fig.show()"
   ]
  },
  {
   "cell_type": "markdown",
   "id": "791b4008",
   "metadata": {
    "pycharm": {
     "name": "#%% md\n"
    }
   },
   "source": [
    "Nun ist es an der Zeit, die Verteilung der Daten zu überprüfen."
   ]
  },
  {
   "cell_type": "markdown",
   "id": "6fb96d32",
   "metadata": {
    "pycharm": {
     "name": "#%% md\n"
    }
   },
   "source": [
    "__Challenge: Visualisierung der Daten mit selbst definierten Plotly-Funktionen__\n",
    "    \n",
    "Eine großartige Fähigkeit ist es, sich eine Funktionsdefinition und ihren Docstring anzusehen und herauszufinden, wie sie zu verwenden ist. Aus diesem Grund habe ich in der Definition von plot_histogram() \"type hints\" hinzugefügt. Typ-Hinweise zeigen dem Benutzer, welche Argumente die Funktion erwartet und von welchem Typ sie sein sollten (z. B. sollte 'title' ein String sein), und zeigen auch, was die Funktion zurückgibt (in diesem Fall ist die Ausgabe None, da die Funktion das Diagramm anzeigt, aber nicht zurückgibt). \n",
    "\n",
    "Für die nächste Aufgabe erstellen Sie also zwei neue Zellen, in denen Sie die Anwendung von plot_histogram() üben. Eine Zelle sollte die Verteilung der Mengenwerte darstellen, die andere die Werte des Stückpreises aus unserem df_data-Datenframe. Viel Erfolg!"
   ]
  },
  {
   "cell_type": "code",
   "execution_count": null,
   "id": "8d894495",
   "metadata": {
    "code_folding": [],
    "pycharm": {
     "name": "#%%\n"
    }
   },
   "outputs": [],
   "source": [
    "# Plot distribution of 'Quantity' values\n",
    "plot_histogram(data=df_data['Quantity'],\n",
    "               x_title='Quantity Values',\n",
    "               y_title='Count',\n",
    "               title='Count of Quantity of Purchases Per Transaction')"
   ]
  },
  {
   "cell_type": "code",
   "execution_count": null,
   "id": "e016c352",
   "metadata": {
    "code_folding": [],
    "pycharm": {
     "name": "#%%\n"
    }
   },
   "outputs": [],
   "source": [
    "# Plot distribution of 'Unit Price' values\n",
    "plot_histogram(data=df_data['UnitPrice'],\n",
    "               x_title='Unit Prices',\n",
    "               y_title='Count',\n",
    "               title='Count of Unit Price Values Per Transaction')"
   ]
  },
  {
   "cell_type": "markdown",
   "id": "04b8d5b0",
   "metadata": {
    "pycharm": {
     "name": "#%% md\n"
    }
   },
   "source": [
    "Diese Daten sind eindeutig verzerrt, was auf einige extrem hohe Werte zurückzuführen ist. Ihr erster Gedanke könnte sein, diese Werte zu entfernen, aber wir haben bereits bestätigt, dass sie legitime Informationen enthalten, mit denen unsere Modelle umgehen müssen. Wir werden also keine derartigen Daten entfernen. "
   ]
  },
  {
   "cell_type": "markdown",
   "id": "ce25c5bb",
   "metadata": {
    "pycharm": {
     "name": "#%% md\n"
    }
   },
   "source": [
    "# Schritt 2: Die Werte für Recency, Frequency und Revenue berechnen"
   ]
  },
  {
   "cell_type": "markdown",
   "id": "65218837",
   "metadata": {
    "pycharm": {
     "name": "#%% md\n"
    }
   },
   "source": [
    "## Recency\n",
    "\n",
    "Für die Recency (Aktualität) verwenden wir das letzte Kaufdatum pro Kunde*, um die inaktiven Tage zu berechnen. *Wir verwenden das InvoiceDate"
   ]
  },
  {
   "cell_type": "code",
   "execution_count": null,
   "id": "0df701b4",
   "metadata": {
    "code_folding": [],
    "pycharm": {
     "name": "#%%\n"
    }
   },
   "outputs": [],
   "source": [
    "# Prepare Recency values\n",
    "# Create a generic customer dataframe to keep CustomerID and new segmentation scores\n",
    "df_customer = pd.DataFrame(df_data.CustomerID.unique(), columns=['CustomerID'])\n",
    "\n",
    "# Get the MaxPurchaseDate for each customer and create a dataframe with it\n",
    "df_max_purchase = df_data.groupby('CustomerID').InvoiceDate.max().reset_index()\n",
    "df_max_purchase.columns = ['CustomerID','MaxPurchaseDate']\n",
    "\n",
    "# Calculate the max of all MaxPurchaseDates, then calculate recency for each customer \n",
    "# based on the difference between this and their MaxPurchaseDate\n",
    "max_of_max_dates = df_max_purchase['MaxPurchaseDate'].max()\n",
    "df_max_purchase['Recency'] = (max_of_max_dates - df_max_purchase['MaxPurchaseDate']).dt.days\n",
    "\n",
    "# Merge this dataframe to our new customer dataframe\n",
    "df_customer = pd.merge(df_customer, df_max_purchase, on='CustomerID')\n",
    "df_customer.sample(10)"
   ]
  },
  {
   "cell_type": "markdown",
   "id": "1fa8c06d",
   "metadata": {
    "pycharm": {
     "name": "#%% md\n"
    }
   },
   "source": [
    "## Frequency"
   ]
  },
  {
   "cell_type": "code",
   "execution_count": null,
   "id": "3cfa29e0",
   "metadata": {
    "code_folding": [],
    "pycharm": {
     "name": "#%%\n"
    }
   },
   "outputs": [],
   "source": [
    "# Add each customer's minimum purchase date\n",
    "df_min_purchase = df_data.groupby('CustomerID').InvoiceDate.min().reset_index()\n",
    "df_min_purchase.columns = ['CustomerID','MinPurchaseDate']\n",
    "# Merge this dataframe to our new customer dataframe\n",
    "df_customer = pd.merge(df_customer, df_min_purchase, on='CustomerID')"
   ]
  },
  {
   "cell_type": "code",
   "execution_count": null,
   "id": "bfc5ca91",
   "metadata": {
    "code_folding": [],
    "pycharm": {
     "name": "#%%\n"
    }
   },
   "outputs": [],
   "source": [
    "# Calculate each customer's lifespan\n",
    "df_customer['Lifespan'] = (df_customer.MaxPurchaseDate - df_customer.MinPurchaseDate).dt.days"
   ]
  },
  {
   "cell_type": "code",
   "execution_count": null,
   "id": "d01960f1",
   "metadata": {
    "code_folding": [],
    "pycharm": {
     "name": "#%%\n"
    }
   },
   "outputs": [],
   "source": [
    "# Prepare Frequency values\n",
    "# Get the number of purchases for each customer and create a dataframe with it; combine with df_customer\n",
    "df_frequency = df_data.groupby('CustomerID').InvoiceDate_Date.nunique().reset_index()\n",
    "df_data.drop(columns=['InvoiceDate_Date'], inplace=True)\n",
    "df_frequency.columns = ['CustomerID', 'Frequency']\n",
    "\n",
    "df_customer = pd.merge(df_customer, df_frequency, on='CustomerID')"
   ]
  },
  {
   "cell_type": "code",
   "execution_count": null,
   "id": "260bf146",
   "metadata": {
    "code_folding": [
     0
    ],
    "pycharm": {
     "name": "#%%\n"
    }
   },
   "outputs": [],
   "source": [
    "# Remove 'MaxPurchaseDate', 'MinPurchaseDate' as they are no longer needed\n",
    "df_customer.drop(columns=['MaxPurchaseDate', 'MinPurchaseDate'], inplace=True)"
   ]
  },
  {
   "cell_type": "markdown",
   "id": "06b26b19",
   "metadata": {
    "pycharm": {
     "name": "#%% md\n"
    }
   },
   "source": [
    "## MonetaryValue"
   ]
  },
  {
   "cell_type": "markdown",
   "id": "944d81c9",
   "metadata": {
    "pycharm": {
     "name": "#%% md\n"
    }
   },
   "source": [
    "__Challenge: MonetaryValue Berechnen__\n",
    "\n",
    "Für diese Aufgabe müssen wir eine neue Spalte mit der Bezeichnung \"MonetaryValue\" hinzufügen. Für jede Zeile in den Daten sollte MonetaryValue der UnitPrice multipliziert mit der Quantity sein. Auf diese Weise können wir den Geldwert pro Kunde ermitteln. \n",
    "\n",
    "Das mag kompliziert klingen, aber sobald wir die neue Spalte haben, ist der Prozess derselbe wie bei den Spalten \"Recency\" und \"Frequency\". Testen Sie also Ihr Gedächtnis, und wenn Sie wirklich nicht weiterkommen, können Sie sich von dem, was wir oben gemacht haben, inspirieren lassen. \n",
    "\n",
    "Viel Erfolg!"
   ]
  },
  {
   "cell_type": "code",
   "execution_count": null,
   "id": "c09dcd1c",
   "metadata": {
    "code_folding": [],
    "pycharm": {
     "name": "#%%\n"
    }
   },
   "outputs": [],
   "source": [
    "# Solution: Prepare Monetary Value values\n",
    "df_data['MonetaryValue'] = df_data['UnitPrice'] * df_data['Quantity']\n",
    "df_monetary_value = df_data.groupby('CustomerID').MonetaryValue.sum().reset_index()\n",
    "df_customer = pd.merge(df_customer, df_monetary_value, on='CustomerID')"
   ]
  },
  {
   "cell_type": "markdown",
   "id": "0ce38ee2",
   "metadata": {
    "pycharm": {
     "name": "#%% md\n"
    }
   },
   "source": [
    "## Der vorbereiteten R-, F- und M-Werte Visualisieren"
   ]
  },
  {
   "cell_type": "code",
   "execution_count": null,
   "id": "0356f39d",
   "metadata": {
    "code_folding": [],
    "pycharm": {
     "name": "#%%\n"
    }
   },
   "outputs": [],
   "source": [
    "# Examine the final R, F & M scores\n",
    "print(\"Sample:\")\n",
    "display(df_customer.sample(10))\n",
    "\n",
    "print(\"Summary statistics:\")\n",
    "rfm_cols = ['Recency', 'Frequency', 'MonetaryValue']\n",
    "display(df_customer[rfm_cols].describe().round(3))"
   ]
  },
  {
   "cell_type": "code",
   "execution_count": null,
   "id": "3659df34",
   "metadata": {
    "code_folding": [],
    "pycharm": {
     "name": "#%%\n"
    }
   },
   "outputs": [],
   "source": [
    "# Visualise the distributions of R, F & M values per shopper\n",
    "titles = ['Recency Values (Days Since Last Purchase) Per Shopper',\n",
    "          'Purchase Frequency Values per Shopper',\n",
    "          'Monetary Value Values per Shopper']\n",
    "\n",
    "for col, title in zip(rfm_cols, titles):\n",
    "    plot_histogram(data=df_customer[col], x_title=col, y_title='Count', title=title)\n",
    "    \n",
    "# A note on zip(), for the unfamiliar:\n",
    "# Zip takes in iterables (lists, pandas Series, etc), which are objects that can return their members one at a time.\n",
    "# It then iterates over the iterables, always returning one of each. \n",
    "\n",
    "# Example:\n",
    "# for col, title in zip(rfm_cols, titles):\n",
    "#     print(f\"Columm: {col}; Title: {title}\")\n",
    "# This will print:\n",
    "# Columm: Recency; Title: Recency Values (Days Since Last Purchase) Per Shopper\n",
    "# Columm: Frequency; Title: Purchase Frequency Values per Shopper\n",
    "# Columm: MonetaryValue; Title: Monetary Value Values per Shopper"
   ]
  },
  {
   "cell_type": "markdown",
   "id": "40c7725b",
   "metadata": {
    "pycharm": {
     "name": "#%% md\n"
    }
   },
   "source": [
    "# Schritt 3: Kunden anhand ihrer R-, F- und M-Bewertungen clustern\n",
    "\n",
    "## Wichtiger Hinweis: K-Means-Annahmen (Assumptions)\n",
    "\n",
    "Die Annahmen von K-Means sind:\n",
    "\n",
    "- symmetrische Verteilungen (keine Skewness/Schiefe) zwischen den Variablen\n",
    "- gleicher Durchschnittswert für alle Variablen (damit sie die Segmentierung nicht verzerren)\n",
    "- gleiche Standardabweichung für alle Variablen\n",
    "\n",
    "Wir haben gesehen, dass keine der Verteilungen symmetrisch ist. In der Tat waren sie alle rechtsschief. Daher sollten wir sie transformieren.\n",
    "\n",
    "Es gibt jedoch noch ein Problem, mit dem wir umgehen müssen: Die beiden Spalten MonetaryValue und Recency enthalten jetzt 0s, die die Log-Transformation nicht verarbeiten kann. Daher fügen wir zu all ihren Werten 1 hinzu, bevor wir die Transformation durchführen."
   ]
  },
  {
   "cell_type": "code",
   "execution_count": null,
   "id": "0ac4df27",
   "metadata": {
    "pycharm": {
     "name": "#%%\n"
    }
   },
   "outputs": [],
   "source": [
    "# Add 1 to all Recency and MonetaryValue scores, so that the log transformation works correctly for them\n",
    "df_customer['Recency'] += 1\n",
    "df_customer['MonetaryValue'] += 1"
   ]
  },
  {
   "cell_type": "code",
   "execution_count": null,
   "id": "1fb74033",
   "metadata": {
    "code_folding": [],
    "pycharm": {
     "name": "#%%\n"
    }
   },
   "outputs": [],
   "source": [
    "# Apply the log transformation\n",
    "for col in rfm_cols:\n",
    "    df_customer[f'{col}_log'] = np.log10(df_customer[[col]])\n",
    "    # A note on log10, for the unsure:\n",
    "    # An explanation of logarithms is beyond the scope of this course, but resources are available online\n",
    "    # Example: https://www.mathsisfun.com/algebra/logarithms.html\n",
    "    \n",
    "    #  Visualise the transformed scores\n",
    "    plot_histogram(data=df_customer[f'{col}_log'],\n",
    "                   x_title=f'{col} (Log-Transformed)',\n",
    "                   y_title='Count',\n",
    "                   title=col)"
   ]
  },
  {
   "cell_type": "markdown",
   "id": "79d45dca",
   "metadata": {
    "pycharm": {
     "name": "#%% md\n"
    }
   },
   "source": [
    "## Recency clustern\n",
    "\n",
    "Jetzt können wir die Kunden auf der Grundlage ihrer Recency Bewertungen clustern. \n",
    "\n",
    "Zunächst müssen wir K mithilfe der Elbow-Methode definieren.\n",
    "Beachten Sie, dass das optimale K auch von den Unternehmenszielen beeinflusst werden kann. "
   ]
  },
  {
   "cell_type": "code",
   "execution_count": null,
   "id": "17cfaa7d",
   "metadata": {
    "code_folding": [],
    "pycharm": {
     "name": "#%%\n"
    }
   },
   "outputs": [],
   "source": [
    "# Try K-Means clustering with different values of K for the log-transformed recency scores\n",
    "ssd={}\n",
    "\n",
    "tmp = df_customer[['Recency_log']].reset_index()\n",
    "for k_tmp in range(1, 10):\n",
    "    kmeans = KMeans(n_clusters=k_tmp, max_iter=1000, random_state=rand_state).fit(tmp)\n",
    "    ssd[k_tmp] = kmeans.inertia_"
   ]
  },
  {
   "cell_type": "code",
   "execution_count": null,
   "id": "76ccbd13",
   "metadata": {
    "code_folding": [],
    "pycharm": {
     "name": "#%%\n"
    }
   },
   "outputs": [],
   "source": [
    "# Visualise the inertia / sum of squared distances (ssd.values()) for each value of k (ssd.keys()) we tried\n",
    "fig = go.Figure()\n",
    "fig.add_trace(\n",
    "            go.Scatter(x=list(ssd.keys()),\n",
    "                       y=list(ssd.values()),\n",
    "                       mode='lines'))\n",
    "\n",
    "fig.update_layout(xaxis_title='Number of Clusters',\n",
    "                  yaxis_title='SSD',\n",
    "                  title='SSD per Number of Clusters',\n",
    "                  hovermode='x unified')\n",
    "\n",
    "fig.show()"
   ]
  },
  {
   "cell_type": "markdown",
   "id": "55b12b1b",
   "metadata": {
    "pycharm": {
     "name": "#%% md\n"
    }
   },
   "source": [
    "Die Grafik zeigt, dass zwei Cluster wahrscheinlich ideal sind. Je nach Geschäftsanforderungen können Sie auch mit mehr, z. B. drei Clustern experimentieren, die Ihre Kunden mit hohem, mittlerem und niedrigem Wert widerspiegeln.\n",
    "\n",
    "Sie haben bereits gesehen, wie man ein Clustering durchführt. Da wir das jetzt ein paar Mal machen müssen, erstellen wir eine Funktion, die die Arbeit für uns erledigt."
   ]
  },
  {
   "cell_type": "code",
   "execution_count": null,
   "id": "61640ee2",
   "metadata": {
    "code_folding": [],
    "pycharm": {
     "name": "#%%\n"
    }
   },
   "outputs": [],
   "source": [
    "# Define cluster_data()\n",
    "\n",
    "def cluster_data(data: pd.DataFrame, kmeans: KMeans, cols_to_cluster: List[str]) -> None:\n",
    "    \"\"\"\n",
    "    Fit a Kmeans model to a dataframe for a specified cluster column; assign cluster values to the data\n",
    "    \n",
    "    Args:\n",
    "        data: the data to process\n",
    "        kmeans: an object of the class sklearn.cluster._kmeans.KMeans\n",
    "        cols_to_cluster: the columns upon which to cluster, e.g. ['Recency']\n",
    "    \"\"\"\n",
    "    kmeans.fit(data[cols_to_cluster])\n",
    "    new_col_name = '_'.join(cols_to_cluster)\n",
    "    data[f'{new_col_name}_Cluster_(k={kmeans.n_clusters})'] = kmeans.predict(data[cols_to_cluster])\n",
    "    # An example final new column, if e.g. cols_to_cluster = ['Recency', 'Frequency'] and kmeans.n_clusters = 2,\n",
    "    # would be 'Recency_Frequency_Cluster_(k=2)' \n",
    "\n",
    "    return data"
   ]
  },
  {
   "cell_type": "code",
   "execution_count": null,
   "id": "eeac8283",
   "metadata": {
    "code_folding": [],
    "pycharm": {
     "name": "#%%\n"
    }
   },
   "outputs": [],
   "source": [
    "# Build our clusters for recency and add them to the dataframe\n",
    "k_range = [2,3,4]\n",
    "for k_tmp in k_range:\n",
    "    kmeans = KMeans(n_clusters=k_tmp, max_iter=1000, random_state=rand_state)\n",
    "    df_customer = cluster_data(data=df_customer, kmeans=kmeans, cols_to_cluster=['Recency_log'])"
   ]
  },
  {
   "cell_type": "markdown",
   "id": "6bf111a5",
   "metadata": {
    "pycharm": {
     "name": "#%% md\n"
    }
   },
   "source": [
    "K-means weist die Labels nicht in geordneter Weise zu, d. h. 1 ist nicht unbedingt das beste/schlechteste im Vergleich zu k. Wir müssen die Cluster neu ordnen, so dass ein höheres Label eine bessere R-, F- oder M-Bewertung anzeigt. Zum Beispiel erhalten die Kunden mit den ältesten Aktualitätswerten eine niedrigere Label (0)."
   ]
  },
  {
   "cell_type": "code",
   "execution_count": null,
   "id": "97bb39ae",
   "metadata": {
    "code_folding": [],
    "pycharm": {
     "name": "#%%\n"
    }
   },
   "outputs": [],
   "source": [
    "# Re-order cluster labels so that a high label number indicates a more desirable score\n",
    "\n",
    "for k_tmp in k_range:\n",
    "    # Group by cluster labels and get the mean of the Recency values per cluster label,\n",
    "    tmp = (df_customer\n",
    "           .groupby(f'Recency_log_Cluster_(k={k_tmp})')['Recency']\n",
    "           .mean()\n",
    "           .reset_index()\n",
    "           # Then sort by the Recency values and drop the index\n",
    "           .sort_values(by='Recency', ascending=False)\n",
    "           .reset_index(drop=True))\n",
    "    \n",
    "    # Assign a new rank column using the index of the sorted data\n",
    "    tmp['Rank'] = tmp.index\n",
    "\n",
    "    \n",
    "    # Merge the data frames on the cluster labels, drop the original cluster label column, replacing it with rank\n",
    "    df_customer = (pd.merge(df_customer, tmp[[f'Recency_log_Cluster_(k={k_tmp})', 'Rank']],\n",
    "                            on=f'Recency_log_Cluster_(k={k_tmp})')\n",
    "                   .drop([f'Recency_log_Cluster_(k={k_tmp})'], axis=1)\n",
    "                   .rename(columns={'Rank': f'Recency_log_Cluster_(k={k_tmp})'}))"
   ]
  },
  {
   "cell_type": "markdown",
   "id": "87aecd73",
   "metadata": {
    "pycharm": {
     "name": "#%% md\n"
    }
   },
   "source": [
    "__Challenge: Eine Cluster Relabelling Funktion Definieren__\n",
    "\n",
    "Da wir diese Aktion mehrmals durchführen müssen, verpacken wir den Vorgang wieder in eine Funktion.\n",
    "\n",
    "Wenn Sie darüber nachdenken, wie Sie diese Funktion aufbauen wollen, können Sie den obigen Code als Leitfaden verwenden. Aber denken Sie daran, dass Sie die for-Schleife nicht brauchen: Wir können die Funktion stattdessen später innerhalb einer for-Schleife aufrufen. \n",
    "\n",
    "Wenn Sie wirklich nicht weiterkommen, habe ich in der nächsten Zelle einen Hinweis vorbereitet. Viel Glück!"
   ]
  },
  {
   "cell_type": "code",
   "execution_count": null,
   "id": "ac076396",
   "metadata": {
    "code_folding": [],
    "pycharm": {
     "name": "#%%\n"
    }
   },
   "outputs": [],
   "source": [
    "# Challenge Hint: This is the function definition and docstring I used in my answer.\n",
    "def relabel_clusters(data: pd.DataFrame, cluster_col: str, cluster_col_orig: str, ascending: bool) -> pd.DataFrame:\n",
    "    \"\"\"\n",
    "    Re-label clusters so that a higher cluster label indicates a better R, F or M score\n",
    "    \n",
    "    Args:\n",
    "        data: the data to process\n",
    "        cluster_col: the column containing cluster labels, e.g. 'Recency_Cluster'\n",
    "        cluster_col_orig: the column which was used to create the clusters, e.g. 'Recency'\n",
    "        ascending: whether a higher mean cluster_col_orig value is better (ascending=True) or worse\n",
    "        (ascending=False). E.g. if cluster_col_orig='MonetaryValue', ascending=True\n",
    "        \n",
    "    \"\"\"\n",
    "    \n",
    "    raise NotImplementedError(\"This is just a function definition and docstring; your challenge is to implement it\")"
   ]
  },
  {
   "cell_type": "code",
   "execution_count": null,
   "id": "034a91c9",
   "metadata": {
    "code_folding": [],
    "pycharm": {
     "name": "#%%\n"
    }
   },
   "outputs": [],
   "source": [
    "# Challenge Solution: Define relabel_clusters()\n",
    "def relabel_clusters(data: pd.DataFrame, cluster_col: str, cluster_col_orig: str, ascending: bool) -> pd.DataFrame:\n",
    "    \"\"\"\n",
    "    Re-label clusters so that a higher cluster label indicates a better R, F or M score\n",
    "    \n",
    "    Args:\n",
    "        data: the data to process\n",
    "        cluster_col: the column containing cluster labels, e.g. 'Recency_Cluster'\n",
    "        cluster_col_orig: the column which was used to create the clusters, e.g. 'Recency'\n",
    "        ascending: whether a higher mean cluster_col_orig value is better (ascending=True) or worse\n",
    "        (ascending=False). E.g. if cluster_col_orig='MonetaryValue', ascending=True\n",
    "        \n",
    "    \"\"\"\n",
    "    # Group by cluster labels and get the mean of cluster_col_orig per cluster label\n",
    "    data_tmp = data.groupby(cluster_col)[cluster_col_orig].mean().reset_index()\n",
    "    # Sort by cluster_col_orig values and drop the index\n",
    "    data_tmp = data_tmp.sort_values(by=cluster_col_orig, ascending=ascending).reset_index(drop=True)\n",
    "    # Assign a new rank column using the index of the sorted data\n",
    "    data_tmp['Rank'] = data_tmp.index\n",
    "    # Merge the two data frames on the cluster labels, drop the original cluster label column, replace it with rank\n",
    "    data_new = (pd.merge(data, data_tmp[[cluster_col, 'Rank']], on=cluster_col)\n",
    "                .drop([cluster_col], axis=1)\n",
    "                .rename(columns={\"Rank\": cluster_col}))\n",
    "                \n",
    "    return data_new\n"
   ]
  },
  {
   "cell_type": "code",
   "execution_count": null,
   "id": "17cb643f",
   "metadata": {
    "code_folding": [],
    "pycharm": {
     "name": "#%%\n"
    }
   },
   "outputs": [],
   "source": [
    "# Visualise the clusters in order to help choose the best value of k\n",
    "col = 'Recency'\n",
    "k_range = [2, 3, 4]\n",
    "for k_tmp in k_range:\n",
    "    fig = go.Figure()\n",
    "    fig.add_trace(\n",
    "        go.Scatter(\n",
    "            x=df_customer[col], y=np.random.randint(low=0, high=100, size=len(df_customer)), mode='markers',\n",
    "            marker_color=df_customer[f'{col}_log_Cluster_(k={k_tmp})'], marker_colorscale='plotly3',\n",
    "            hovertemplate='Recency: %{x}'\n",
    "                          '<extra></extra>'\n",
    "        )\n",
    "    )\n",
    "    # Other plotly colorscales can be found here: https://plotly.com/python/builtin-colorscales/\n",
    "    fig.update_layout(\n",
    "        xaxis_title=col, title=f'{col} Values in {k_tmp} Clusters',\n",
    "        yaxis=go.layout.YAxis(title='Random Scatter', showticklabels=False)\n",
    "    )\n",
    "    fig.show()"
   ]
  },
  {
   "cell_type": "markdown",
   "id": "4198410f",
   "metadata": {
    "pycharm": {
     "name": "#%% md\n"
    }
   },
   "source": [
    "## Frequency & MonetaryValue clustern\n",
    "\n",
    "Probieren wir noch einmal zahlreiche k-Werte für die Frequency- und MonetaryValue aus und entscheiden wir, wie viele Cluster jeweils verwendet werden sollen.\n",
    "\n",
    "Die Fehlerkurven sehen fast identisch zueinander und zu der Kurve aus, die wir für verschiedene Anzahlen von Recency-Clustern gesehen haben. Das liegt daran, dass wir die Daten logarithmisch skaliert haben, so dass die Werte für alle drei Variablen in einem ähnlichen Bereich liegen. Daher sind auch die Fehler ähnlich."
   ]
  },
  {
   "cell_type": "code",
   "execution_count": null,
   "id": "2ce8381a",
   "metadata": {
    "code_folding": [],
    "pycharm": {
     "name": "#%%\n"
    }
   },
   "outputs": [],
   "source": [
    "# Try different k values for Frequency and MonetaryValue_log and plot the results\n",
    "for col in ['Frequency_log', 'MonetaryValue_log']:\n",
    "    ssd={}\n",
    "    \n",
    "    tmp = df_customer[[col]].reset_index()\n",
    "    for k_tmp in range(1, 10):\n",
    "        kmeans = KMeans(n_clusters=k_tmp, max_iter=1000, random_state=rand_state).fit(tmp)\n",
    "        ssd[k_tmp] = kmeans.inertia_\n",
    "        \n",
    "    fig = go.Figure()\n",
    "    fig.add_trace(\n",
    "        go.Scatter(x=list(ssd.keys()),\n",
    "                   y=list(ssd.values()),\n",
    "                   mode='lines'))\n",
    "\n",
    "    fig.update_layout(xaxis_title='Number of Clusters',\n",
    "                      yaxis_title='SSD',\n",
    "                      title=f'SSD per Number of Clusters for {col}',\n",
    "                      hovermode='x unified')\n",
    "    fig.show()\n",
    "    print(ssd)"
   ]
  },
  {
   "cell_type": "markdown",
   "id": "a5fdc9f1",
   "metadata": {
    "pycharm": {
     "name": "#%% md\n"
    }
   },
   "source": [
    "Auf der Grundlage dieser Ergebnisse sollten wir bei einem k-Wert von 2 bleiben. \n",
    "\n",
    "Wir können nun ganz einfach die Frequency- und MonetaryValue-Cluster ableiten und sie neu anordnen, indem wir die zuvor definierten Funktionen und eine einfache for-loop verwenden."
   ]
  },
  {
   "cell_type": "code",
   "execution_count": null,
   "id": "d7374361",
   "metadata": {
    "code_folding": [],
    "pycharm": {
     "name": "#%%\n"
    }
   },
   "outputs": [],
   "source": [
    "# Build our clusters for Frequency and MonetaryValue and add them to the dataframe\n",
    "for k_tmp in k_range:\n",
    "    for col in  ['Frequency_log', 'MonetaryValue_log']:\n",
    "        kmeans = KMeans(n_clusters=k_tmp, max_iter=1000, random_state=rand_state)\n",
    "        df_customer = cluster_data(data=df_customer, kmeans=kmeans, cols_to_cluster=[col])\n",
    "        df_customer = relabel_clusters(data=df_customer,\n",
    "                                       cluster_col=f'{col}_Cluster_(k={k_tmp})',\n",
    "                                       cluster_col_orig=col,\n",
    "                                       ascending=True)"
   ]
  },
  {
   "cell_type": "code",
   "execution_count": null,
   "id": "8d7fc5ad",
   "metadata": {
    "code_folding": [],
    "pycharm": {
     "name": "#%%\n"
    }
   },
   "outputs": [],
   "source": [
    "# Visualise the clusters in order to help choose the best value of k\n",
    "k_range = [2,3,4]\n",
    "for col in ['Frequency', 'MonetaryValue']:\n",
    "    for k_tmp in k_range:\n",
    "        fig = go.Figure()    \n",
    "        fig.add_trace(\n",
    "            go.Scatter(\n",
    "                x=df_customer[col], y=np.random.randint(low=0, high=100, size=len(df_customer)), mode='markers',\n",
    "                marker_color=df_customer[f'{col}_log_Cluster_(k={k_tmp})'], marker_colorscale='plotly3',\n",
    "                hovertemplate=f'{col}'+': %{x}'\n",
    "                              '<extra></extra>'\n",
    "            )\n",
    "        )\n",
    "        \n",
    "        fig.update_layout(\n",
    "            xaxis_title=col, title=f'{col} Values in {k_tmp} Clusters',\n",
    "            yaxis = go.layout.YAxis(title='Random Scatter', showticklabels=False)\n",
    "        )\n",
    "        fig.show()"
   ]
  },
  {
   "cell_type": "markdown",
   "id": "8ac9ccaa",
   "metadata": {
    "pycharm": {
     "name": "#%% md\n"
    }
   },
   "source": [
    "## Schritt 4: Berechnung der Gesamtpunktzahl pro Kunde\n",
    "\n",
    "Wir werden einfach die Summe aller drei R, F & M Scores verwenden.\n",
    "\n",
    "Danach können wir die Daten nach der OverallScore gruppiert betrachten und die Mittelwerte der ursprünglichen (d. h. nicht transformierten) R-, F- und M-Werte pro OverallScore überprüfen."
   ]
  },
  {
   "cell_type": "code",
   "execution_count": null,
   "id": "4475b4e2",
   "metadata": {
    "code_folding": [],
    "pycharm": {
     "name": "#%%\n"
    }
   },
   "outputs": [],
   "source": [
    "# Calculate overall scores\n",
    "k=2\n",
    "df_customer['OverallScore'] = (df_customer[f'Recency_log_Cluster_(k={k})']\n",
    "                           + df_customer[f'Frequency_log_Cluster_(k={k})']\n",
    "                           + df_customer[f'MonetaryValue_log_Cluster_(k={k})'])\n",
    "                           \n",
    "df_customer.groupby('OverallScore')[rfm_cols].mean()"
   ]
  },
  {
   "cell_type": "code",
   "execution_count": null,
   "id": "d54ccbf7",
   "metadata": {
    "pycharm": {
     "name": "#%%\n"
    }
   },
   "outputs": [],
   "source": [
    "# Visualise the number of customers per score (helps in assigning Tiers)\n",
    "pd.DataFrame(df_customer.value_counts('OverallScore')).reset_index().sort_values(by='OverallScore')"
   ]
  },
  {
   "cell_type": "markdown",
   "id": "9dcd1ec9",
   "metadata": {
    "pycharm": {
     "name": "#%% md\n"
    }
   },
   "source": [
    "Schließlich weisen wir jedem Wert von OverallScore einen Namen zu und visualisieren das Ergebnis.\n",
    "\n",
    "- 0 = Low Value\n",
    "- 1 = Low-Mid Value\n",
    "- 2 = Mid-High Value\n",
    "- 3 = High Value"
   ]
  },
  {
   "cell_type": "code",
   "execution_count": null,
   "id": "268fec26",
   "metadata": {
    "code_folding": [],
    "pycharm": {
     "name": "#%%\n"
    }
   },
   "outputs": [],
   "source": [
    "# Assign customers to tiers; show how many customers we have per tier\n",
    "df_customer['Tier'] = 'Low-Value'\n",
    "df_customer.loc[df_customer['OverallScore'] == 1,'Tier'] = 'Low-Mid-Value' \n",
    "df_customer.loc[df_customer['OverallScore'] == 2,'Tier'] = 'Mid-High-Value'\n",
    "df_customer.loc[df_customer['OverallScore'] == 3,'Tier'] = 'High-Value'"
   ]
  },
  {
   "cell_type": "code",
   "execution_count": null,
   "id": "987e743c",
   "metadata": {
    "code_folding": [],
    "pycharm": {
     "name": "#%%\n"
    }
   },
   "outputs": [],
   "source": [
    "# Plot MonetaryValue and Frequency\n",
    "plot_data = [\n",
    "    go.Scatter(\n",
    "        x=df_customer.query(\"Tier == 'Low-Value'\")['Frequency'],\n",
    "        y=df_customer.query(\"Tier == 'Low-Value'\")['MonetaryValue'],\n",
    "        mode='markers',\n",
    "        name='Low',\n",
    "        marker=dict(size= 7,\n",
    "            line=dict(width=1),\n",
    "            color='blue',\n",
    "                    \n",
    "            opacity=0.5\n",
    "           )\n",
    "    ),\n",
    "        go.Scatter(\n",
    "        x=df_customer.query(\"Tier == 'Low-Mid-Value'\")['Frequency'],\n",
    "        y=df_customer.query(\"Tier == 'Low-Mid-Value'\")['MonetaryValue'],\n",
    "        mode='markers',\n",
    "        name='Low-Mid',\n",
    "        marker=dict(size=7,\n",
    "            line=dict(width=1),\n",
    "            color='red',\n",
    "            opacity=0.5\n",
    "           )\n",
    "    ),\n",
    "        go.Scatter(\n",
    "        x=df_customer.query(\"Tier == 'Mid-High-Value'\")['Frequency'],\n",
    "        y=df_customer.query(\"Tier == 'Mid-High-Value'\")['MonetaryValue'],\n",
    "        mode='markers',\n",
    "        name='Mid-High',\n",
    "        marker=dict(size=7,\n",
    "            line=dict(width=1),\n",
    "            color='green',\n",
    "            opacity=0.5\n",
    "           )\n",
    "    ),\n",
    "        go.Scatter(\n",
    "            x=df_customer.query(\"Tier == 'High-Value'\")['Frequency'],\n",
    "            y=df_customer.query(\"Tier == 'High-Value'\")['MonetaryValue'],\n",
    "            mode='markers',\n",
    "            name='High',\n",
    "            marker=dict(size=7,\n",
    "                line=dict(width=1),\n",
    "                color='purple',\n",
    "                opacity=0.5\n",
    "               )\n",
    "        )\n",
    "]\n",
    "\n",
    "plot_layout = go.Layout(\n",
    "        yaxis={'title': \"MonetaryValue\"},\n",
    "        xaxis={'title': \"Frequency\"},\n",
    "        title='Tiering Customers For MonetaryValue and Frequency'\n",
    "    )\n",
    "fig = go.Figure(data=plot_data, layout=plot_layout)\n",
    "fig.show()"
   ]
  },
  {
   "cell_type": "code",
   "execution_count": null,
   "id": "330713f4",
   "metadata": {
    "code_folding": [],
    "pycharm": {
     "name": "#%%\n"
    }
   },
   "outputs": [],
   "source": [
    "# Plot MonetaryValue and Recency\n",
    "plot_data = [\n",
    "    go.Scatter(\n",
    "        x=df_customer.query(\"Tier == 'Low-Value'\")['Recency'],\n",
    "        y=df_customer.query(\"Tier == 'Low-Value'\")['MonetaryValue'],\n",
    "        mode='markers',\n",
    "        name='Low',\n",
    "        marker= dict(size= 7,\n",
    "            line= dict(width=1),\n",
    "            color= 'blue',\n",
    "            opacity= 0.5\n",
    "           )\n",
    "    ),\n",
    "        go.Scatter(\n",
    "        x=df_customer.query(\"Tier == 'Low-Mid-Value'\")['Recency'],\n",
    "        y=df_customer.query(\"Tier == 'Low-Mid-Value'\")['MonetaryValue'],\n",
    "        mode='markers',\n",
    "        name='Low-Mid',\n",
    "        marker= dict(size=7,\n",
    "            line= dict(width=1),\n",
    "            color= 'red',\n",
    "            opacity= 0.5\n",
    "           )\n",
    "    ),\n",
    "        go.Scatter(\n",
    "        x=df_customer.query(\"Tier == 'Mid-High-Value'\")['Recency'],\n",
    "        y=df_customer.query(\"Tier == 'Mid-High-Value'\")['MonetaryValue'],\n",
    "        mode='markers',\n",
    "        name='Mid-High',\n",
    "        marker= dict(size=7,\n",
    "            line= dict(width=1),\n",
    "            color= 'green',\n",
    "            opacity= 0.5\n",
    "           )\n",
    "    ),\n",
    "        go.Scatter(\n",
    "            x=df_customer.query(\"Tier == 'High-Value'\")['Recency'],\n",
    "            y=df_customer.query(\"Tier == 'High-Value'\")['MonetaryValue'],\n",
    "            mode='markers',\n",
    "            name='High',\n",
    "            marker= dict(size=7,\n",
    "                line= dict(width=1),\n",
    "                color= 'purple',\n",
    "                opacity= 0.5\n",
    "               )\n",
    "        )\n",
    "]\n",
    "\n",
    "plot_layout = go.Layout(\n",
    "        yaxis= {'title': \"MonetaryValue\"},\n",
    "        xaxis= {'title': \"Recency\"},\n",
    "        title='Tiering Customers For MonetaryValue and Recency'\n",
    "    )\n",
    "fig = go.Figure(data=plot_data, layout=plot_layout)\n",
    "fig.show()"
   ]
  },
  {
   "cell_type": "code",
   "execution_count": null,
   "id": "94280db3",
   "metadata": {
    "code_folding": [],
    "pycharm": {
     "name": "#%%\n"
    }
   },
   "outputs": [],
   "source": [
    "# Plot Frequency and Recency\n",
    "plot_data = [\n",
    "    go.Scatter(\n",
    "        x=df_customer.query(\"Tier == 'Low-Value'\")['Frequency'],\n",
    "        y=df_customer.query(\"Tier == 'Low-Value'\")['Recency'],\n",
    "        mode='markers',\n",
    "        name='Low',\n",
    "        marker= dict(size= 7,\n",
    "            line= dict(width=1),\n",
    "            color= 'blue',\n",
    "            opacity= 0.5\n",
    "           )\n",
    "    ),\n",
    "        go.Scatter(\n",
    "        x=df_customer.query(\"Tier == 'Low-Mid-Value'\")['Frequency'],\n",
    "        y=df_customer.query(\"Tier == 'Low-Mid-Value'\")['Recency'],\n",
    "        mode='markers',\n",
    "        name='Low-Mid',\n",
    "        marker= dict(size=7,\n",
    "            line= dict(width=1),\n",
    "            color= 'red',\n",
    "            opacity= 0.5\n",
    "           )\n",
    "    ),\n",
    "        go.Scatter(\n",
    "        x=df_customer.query(\"Tier == 'Mid-High-Value'\")['Frequency'],\n",
    "        y=df_customer.query(\"Tier == 'Mid-High-Value'\")['Recency'],\n",
    "        mode='markers',\n",
    "        name='Mid-High',\n",
    "        marker= dict(size=7,\n",
    "            line= dict(width=1),\n",
    "            color= 'green',\n",
    "            opacity= 0.5\n",
    "           )\n",
    "    ),\n",
    "        go.Scatter(\n",
    "            x=df_customer.query(\"Tier == 'High-Value'\")['Frequency'],\n",
    "            y=df_customer.query(\"Tier == 'High-Value'\")['Recency'],\n",
    "            mode='markers',\n",
    "            name='High',\n",
    "            marker= dict(size=7,\n",
    "                line= dict(width=1),\n",
    "                color= 'purple',\n",
    "                opacity= 0.5\n",
    "               )\n",
    "        )\n",
    "]\n",
    "\n",
    "plot_layout = go.Layout(\n",
    "        yaxis= {'title': 'Recency'},\n",
    "        xaxis= {'title': 'Frequency'},\n",
    "        title='Tiering Customers For Frequency and Recency'\n",
    "    )\n",
    "fig = go.Figure(data=plot_data, layout=plot_layout)\n",
    "fig.show()"
   ]
  }
 ],
 "metadata": {
  "kernelspec": {
   "display_name": "Python 3 (ipykernel)",
   "language": "python",
   "name": "python3"
  },
  "language_info": {
   "codemirror_mode": {
    "name": "ipython",
    "version": 3
   },
   "file_extension": ".py",
   "mimetype": "text/x-python",
   "name": "python",
   "nbconvert_exporter": "python",
   "pygments_lexer": "ipython3",
   "version": "3.8.10"
  }
 },
 "nbformat": 4,
 "nbformat_minor": 5
}