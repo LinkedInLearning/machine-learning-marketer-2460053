{
 "cells": [
  {
   "cell_type": "markdown",
   "id": "dba0e61d",
   "metadata": {
    "pycharm": {
     "name": "#%% md\n"
    }
   },
   "source": [
    "## Imports"
   ]
  },
  {
   "cell_type": "code",
   "execution_count": null,
   "id": "4b4b693c",
   "metadata": {
    "code_folding": [
     0
    ],
    "pycharm": {
     "name": "#%%\n"
    }
   },
   "outputs": [],
   "source": [
    "# Imports\n",
    "from __future__ import division\n",
    "from datetime import datetime, date\n",
    "from sklearn.cluster import KMeans\n",
    "from sklearn.preprocessing import OneHotEncoder, StandardScaler\n",
    "from IPython.display import display\n",
    "from sklearn.metrics import classification_report, confusion_matrix\n",
    "from sklearn.model_selection import KFold, train_test_split, GridSearchCV\n",
    "from sklearn.ensemble import RandomForestClassifier\n",
    "from typing import List\n",
    "from scipy.stats import spearmanr\n",
    "\n",
    "import warnings\n",
    "# Suppress FutureWarnings, currently being rarised about XGBoost's use of pandas Int64Index\n",
    "warnings.simplefilter(action='ignore', category=FutureWarning)\n",
    "\n",
    "import xgboost as xgb\n",
    "import pandas as pd\n",
    "import numpy as np\n",
    "import plotly.graph_objs as go\n",
    "import itertools"
   ]
  },
  {
   "cell_type": "code",
   "execution_count": null,
   "id": "78a49583",
   "metadata": {
    "code_folding": [
     0,
     2
    ],
    "pycharm": {
     "name": "#%%\n"
    }
   },
   "outputs": [],
   "source": [
    "# Define relabel_clusters(), cluster_data(), plot_histogram(), and is_return_without_purchase() \n",
    "\n",
    "def cluster_data(data: pd.DataFrame, kmeans: KMeans, cols_to_cluster: List[str]) -> None:\n",
    "    \"\"\"\n",
    "    Fit a Kmeans model to a dataframe for a specified cluster column; assign cluster values to the data\n",
    "    \n",
    "    Args:\n",
    "        data: the data to process\n",
    "        kmeans: an object of the class sklearn.cluster._kmeans.KMeans\n",
    "        cols_to_cluster: the columns upon which to cluster, e.g. ['Recency']\n",
    "    \"\"\"\n",
    "    kmeans.fit(data[cols_to_cluster])\n",
    "    new_col_name = '_'.join(cols_to_cluster)\n",
    "    data[f'{new_col_name}_Cluster_(k={kmeans.n_clusters})'] = kmeans.predict(data[cols_to_cluster])\n",
    "\n",
    "    return data\n",
    "\n",
    "def relabel_clusters(data: pd.DataFrame, cluster_col: str, cluster_col_orig: str, ascending: bool) -> pd.DataFrame:\n",
    "    \"\"\"\n",
    "    Re-label clusters so that a higher cluster label indicates a better R, F or M score\n",
    "    \n",
    "    Args:\n",
    "        data: the data to process\n",
    "        cluster_col: the column containing cluster labels, e.g. 'Recency_Cluster'\n",
    "        cluster_col_orig: the column which was used to create the clusters, e.g. 'Recency'\n",
    "        ascending: whether a higher mean cluster_col_orig value is better (ascending=True) or worse\n",
    "        (ascending=False). E.g. if cluster_col_orig='MonetaryValue', ascending=True\n",
    "        \n",
    "    \"\"\"\n",
    "    # Group by cluster labels and get the mean of cluster_col_orig per cluster label\n",
    "    data_tmp = data.groupby(cluster_col)[cluster_col_orig].mean().reset_index()\n",
    "    # Sort by cluster_col_orig values and drop the index\n",
    "    data_tmp = data_tmp.sort_values(by=cluster_col_orig, ascending=ascending).reset_index(drop=True)\n",
    "    # Assign a new rank column using the index of the sorted data\n",
    "    data_tmp['Rank'] = data_tmp.index\n",
    "    # Merge the two data frames on the cluster labels, drop the original cluster label column, replace it with rank\n",
    "    data_new = (pd.merge(data, data_tmp[[cluster_col, 'Rank']], on=cluster_col)\n",
    "                .drop([cluster_col], axis=1)\n",
    "                .rename(columns={\"Rank\": cluster_col}))\n",
    "                \n",
    "    return data_new\n",
    "\n",
    "def plot_histogram(data: pd.Series, x_title: str, y_title: str, title: str) -> None:\n",
    "    \"\"\"\n",
    "    Plot a histogram given a pandas datta series\n",
    "    \n",
    "    Args:\n",
    "        data: the pandas series, e.g. df[some_column]\n",
    "        x_title, y_title: titles for the x and y axes, respectively\n",
    "        title: title of the plott itself\n",
    "    \"\"\"\n",
    "    fig = go.Figure()\n",
    "    fig.add_trace(\n",
    "        go.Histogram(x=data)\n",
    "    )\n",
    "        \n",
    "    fig.update_layout(xaxis_title=x_title,\n",
    "                      yaxis_title=y_title,\n",
    "                      title=title,\n",
    "                      hovermode='x unified')\n",
    "    fig.show()\n",
    "    \n",
    "def is_return_without_purchase(df: pd.DataFrame, df_row: pd.Series) -> bool:\n",
    "    \"\"\"\n",
    "    Determine whether a transaction is a return without a corresponding purchase    \n",
    "    Args:\n",
    "        df: a dataframe of transaction data, including at least the columns 'CustomerID', Quantity' and 'StockCode'\n",
    "        df_row: a row of a dataframe of transaction data, also including these columns\n",
    "    Returns:\n",
    "        True if a transaction is a return without a corresponding purchase, else False\n",
    "    \"\"\"\n",
    "    if df_row['Quantity'] > 0:\n",
    "        return False # Can't be a return without purchase as it's not a return\n",
    "    else:\n",
    "        customer_id = df_row['CustomerID']\n",
    "        quantity = df_row['Quantity']\n",
    "        stock_code = df_row['StockCode']\n",
    "\n",
    "        matching_purchases = df[\n",
    "            (df['CustomerID'] == customer_id) & (df['StockCode'] == stock_code) & (df['Quantity'] == abs(quantity))\n",
    "        ]\n",
    "\n",
    "        if len(matching_purchases) > 0:\n",
    "            return False # Can't be a return without purchase as corresponding purchases were found\n",
    "        else:\n",
    "            return True"
   ]
  },
  {
   "cell_type": "code",
   "execution_count": null,
   "id": "9f3dc8c8",
   "metadata": {
    "code_folding": [
     0
    ],
    "pycharm": {
     "name": "#%%\n"
    }
   },
   "outputs": [],
   "source": [
    "# Set the random state for the whole notebook\n",
    "rand_state=1"
   ]
  },
  {
   "cell_type": "markdown",
   "id": "fb8404c3",
   "metadata": {
    "pycharm": {
     "name": "#%% md\n"
    }
   },
   "source": [
    "## Schritt 1: Die Daten Lesen; Den Zeitrahmen festlegen"
   ]
  },
  {
   "cell_type": "code",
   "execution_count": null,
   "id": "b444ce5c",
   "metadata": {
    "code_folding": [],
    "pycharm": {
     "name": "#%%\n"
    }
   },
   "outputs": [],
   "source": [
    "# Read data; convert InvoiceDate to datetime\n",
    "try:\n",
    "    df_data = pd.read_csv('OnlineRetail_Preprocessed.csv', parse_dates=['InvoiceDate'])\n",
    "except FileNotFoundError:\n",
    "    print('Please check that the notebook \"Customer_Segmentation.ipynb\" executed successfully')"
   ]
  },
  {
   "cell_type": "markdown",
   "id": "78c806fc",
   "metadata": {
    "pycharm": {
     "name": "#%% md\n"
    }
   },
   "source": [
    "Jetzt müssen wir unsere Daten in zwei Zeiträume aufteilen. Der frühere Zeitraum wird für die Berechnung unserer R-, F- und M-Merkmale verwendet, der letztere für die Vorhersage des Lifetime Value*.\n",
    "\n",
    "Die Wahl der Zeiträume hängt von der Länge der verfügbaren Eingabedaten sowie von der Branche und dem Einzelhandelssegment ab, in dem Sie tätig sind.\n",
    "\n",
    "Da unsere Daten etwa 12 Monate lang sind, werden wir sie in zwei Abschnitte von jeweils etwa sechs Monaten aufteilen, wobei der 6. Juni als Stichtag gilt. Wir werden einen split_date-Parameter erstellen, so dass Sie das Datum leicht ändern und selbst experimentieren können."
   ]
  },
  {
   "cell_type": "code",
   "execution_count": null,
   "id": "9cd4633a",
   "metadata": {
    "code_folding": [],
    "pycharm": {
     "name": "#%%\n"
    }
   },
   "outputs": [],
   "source": [
    "# Examine the time span of the data\n",
    "data_span_days = (df_data.InvoiceDate.max() - df_data.InvoiceDate.min()).days\n",
    "print(f'Data span in days: {data_span_days}.')\n",
    "print(f'Min/max dates (YYYY-MM-DD): {df_data.InvoiceDate.min()}, {df_data.InvoiceDate.max()}')"
   ]
  },
  {
   "cell_type": "code",
   "execution_count": null,
   "id": "cf972110",
   "metadata": {
    "code_folding": [],
    "pycharm": {
     "name": "#%%\n"
    }
   },
   "outputs": [],
   "source": [
    "# Create dataframes for a pre-threshold period and post-threshold period (date format = YYYY-MM-DD)\n",
    "# The first period data is from the min date to (but not including) split_date\n",
    "# The second period data is from split_date to the max date\n",
    "\n",
    "split_date = pd.to_datetime(date(2011,6,1))\n",
    "df_pre = df_data[df_data.InvoiceDate < split_date].reset_index(drop=True)\n",
    "df_post = df_data[df_data.InvoiceDate >= split_date].reset_index(drop=True)\n",
    "print(f\"Num records in pre-period: {len(df_pre)}; and in post-period: {len(df_post)}\")"
   ]
  },
  {
   "cell_type": "markdown",
   "id": "e3043c3b",
   "metadata": {
    "pycharm": {
     "name": "#%% md\n"
    }
   },
   "source": [
    "## Schritt 2: Die Werte für Recency, Frequency und Revenue (MonetaryValue) berechnen"
   ]
  },
  {
   "cell_type": "code",
   "execution_count": null,
   "id": "f4afef59",
   "metadata": {
    "code_folding": [],
    "pycharm": {
     "name": "#%%\n"
    }
   },
   "outputs": [],
   "source": [
    "# create df_customer for assigning clustering (will be a dataframe with just one column, CustomerID)\n",
    "df_customer = pd.DataFrame(df_pre.CustomerID.unique(), columns=['CustomerID'])"
   ]
  },
  {
   "cell_type": "code",
   "execution_count": null,
   "id": "58979ec9",
   "metadata": {
    "code_folding": [],
    "pycharm": {
     "name": "#%%\n"
    },
    "scrolled": true
   },
   "outputs": [],
   "source": [
    "# Recency in days\n",
    "df_max_purchase = df_pre.groupby('CustomerID').InvoiceDate.max().reset_index()\n",
    "df_max_purchase.columns = ['CustomerID','MaxPurchaseDate']\n",
    "max_of_max_dates = df_max_purchase['MaxPurchaseDate'].max()\n",
    "df_max_purchase['Recency'] = (max_of_max_dates - df_max_purchase['MaxPurchaseDate']).dt.days\n",
    "df_customer = pd.merge(df_customer, df_max_purchase, on='CustomerID')"
   ]
  },
  {
   "cell_type": "code",
   "execution_count": null,
   "id": "73ebb12b",
   "metadata": {
    "code_folding": [],
    "pycharm": {
     "name": "#%%\n"
    }
   },
   "outputs": [],
   "source": [
    "# Frequency (& Bonus column: Lifespan)\n",
    "\n",
    "# Add each customer's minimum purchase date\n",
    "df_min_purchase = df_pre.groupby('CustomerID').InvoiceDate.min().reset_index()\n",
    "df_min_purchase.columns = ['CustomerID','MinPurchaseDate']\n",
    "\n",
    "# Merge this dataframe to our new customer dataframe\n",
    "df_customer = pd.merge(df_customer, df_min_purchase, on='CustomerID')\n",
    "\n",
    "# Calculate each customer's lifespan\n",
    "df_customer['Lifespan'] = (df_customer.MaxPurchaseDate - df_customer.MinPurchaseDate).dt.days\n",
    "df_customer.drop(columns=['MinPurchaseDate', 'MaxPurchaseDate'], inplace=True)\n",
    "\n",
    "# Get the number of purchases for each customer and create a dataframe with it; combine with df_customer\n",
    "df_pre['InvoiceDate_Date'] = df_pre['InvoiceDate'].dt.normalize()\n",
    "df_frequency = df_pre.groupby('CustomerID').InvoiceDate_Date.nunique().reset_index()\n",
    "df_pre.drop(columns=['InvoiceDate_Date'], inplace=True)\n",
    "df_frequency.columns = ['CustomerID','Frequency']\n",
    "\n",
    "df_customer = pd.merge(df_customer, df_frequency, on='CustomerID')"
   ]
  },
  {
   "cell_type": "code",
   "execution_count": null,
   "id": "22110d18",
   "metadata": {
    "code_folding": [],
    "pycharm": {
     "name": "#%%\n"
    }
   },
   "outputs": [],
   "source": [
    "# MonetaryValue\n",
    "df_pre['MonetaryValue'] = df_pre['UnitPrice'] * df_pre['Quantity']\n",
    "df_monetary_value = df_pre.groupby('CustomerID').MonetaryValue.sum().reset_index()\n",
    "df_customer = pd.merge(df_customer, df_monetary_value, on='CustomerID')"
   ]
  },
  {
   "cell_type": "markdown",
   "id": "91fb4c51",
   "metadata": {
    "pycharm": {
     "name": "#%% md\n"
    }
   },
   "source": [
    "## Visualise the prepared R, F & M scores\n",
    "\n",
    "Obwohl wir diese Schritte bereits durchgeführt haben, ist es wichtig, dass wir die Daten erneut überprüfen. Das liegt daran, dass sich die Datenlage geändert hat: Wir betrachten jetzt nur noch die ersten paar Monate."
   ]
  },
  {
   "cell_type": "code",
   "execution_count": null,
   "id": "96a2b349",
   "metadata": {
    "code_folding": [],
    "pycharm": {
     "name": "#%%\n"
    }
   },
   "outputs": [],
   "source": [
    "# Visualise the distributions of R, F & M values per shopper\n",
    "rfm_cols = ['Recency', 'Frequency', 'MonetaryValue']\n",
    "titles = ['Recency Score Per Shopper',\n",
    "          'Purchase Frequency Values per Shopper',\n",
    "          'Monetary Value Values per Shopper']\n",
    "\n",
    "for col, title in zip(rfm_cols, titles):\n",
    "    plot_histogram(data=df_customer[col], x_title=col, y_title='Count', title=title)"
   ]
  },
  {
   "cell_type": "code",
   "execution_count": null,
   "id": "61b63991",
   "metadata": {
    "code_folding": [],
    "pycharm": {
     "name": "#%%\n"
    }
   },
   "outputs": [],
   "source": [
    "# Examine the final R, F & M scores\n",
    "print(\"Summary statistics:\")\n",
    "display(df_customer.describe().round(2))"
   ]
  },
  {
   "cell_type": "code",
   "execution_count": null,
   "id": "cf201efc",
   "metadata": {
    "pycharm": {
     "name": "#%%\n"
    }
   },
   "outputs": [],
   "source": [
    "# Check how many negative MonetaryValue post rows we have\n",
    "print(f\"Num. rows where MonetaryValue < 0: {len(df_customer[df_customer['MonetaryValue'] < 0])}\")\n",
    "print(f\"Num. rows where MonetaryValue == 0: {len(df_customer[df_customer['MonetaryValue'] == 0])}\")"
   ]
  },
  {
   "cell_type": "code",
   "execution_count": null,
   "id": "c8f53999",
   "metadata": {
    "pycharm": {
     "name": "#%%\n"
    }
   },
   "outputs": [],
   "source": [
    "# Remove negative MonetaryValue rows\n",
    "df_customer = df_customer.copy().query('MonetaryValue >= 0')"
   ]
  },
  {
   "cell_type": "code",
   "execution_count": null,
   "id": "4b952a51",
   "metadata": {
    "pycharm": {
     "name": "#%%\n"
    }
   },
   "outputs": [],
   "source": [
    "# Handle 0-valued MonetaryValue and Recency rows\n",
    "df_customer['Recency'] += 1\n",
    "df_customer['MonetaryValue'] += 1"
   ]
  },
  {
   "cell_type": "code",
   "execution_count": null,
   "id": "2efb6fcc",
   "metadata": {
    "code_folding": [],
    "pycharm": {
     "name": "#%%\n"
    }
   },
   "outputs": [],
   "source": [
    "# Apply the log transformation\n",
    "for col in rfm_cols:\n",
    "\n",
    "    df_customer[f'{col}_log'] = np.log10(df_customer[[col]])\n",
    "    # A note on log10, for the unsure:\n",
    "    # An explanation of logarithms is beyond the scope of this course, but resources are available online\n",
    "    # Example: https://www.mathsisfun.com/algebra/logarithms.html\n",
    "    \n",
    "    #  Visualise the transformed scores\n",
    "    plot_histogram(data=df_customer[f'{col}_log'],\n",
    "                   x_title=f'{col} (Log-Transformed)',\n",
    "                   y_title='Count',\n",
    "                   title=col)"
   ]
  },
  {
   "cell_type": "markdown",
   "id": "1a8a7a86",
   "metadata": {
    "pycharm": {
     "name": "#%% md\n"
    }
   },
   "source": [
    "## Schritt 3: Kunden anhand ihrer R-, F- und M-Bewertungen clustern"
   ]
  },
  {
   "cell_type": "markdown",
   "id": "7dc4fba4",
   "metadata": {
    "pycharm": {
     "name": "#%% md\n"
    }
   },
   "source": [
    "### Die Anzahl von Clustern bestimmen"
   ]
  },
  {
   "cell_type": "code",
   "execution_count": null,
   "id": "0f791462",
   "metadata": {
    "code_folding": [],
    "pycharm": {
     "name": "#%%\n"
    }
   },
   "outputs": [],
   "source": [
    "# Try different k values for the R, F & M columns and plot the results\n",
    "rfm_log_cols = [f'{col}_log' for col in rfm_cols]\n",
    "for col in rfm_log_cols:\n",
    "    ssd={}\n",
    "    \n",
    "    tmp = df_customer[[col]].reset_index()\n",
    "    for k_tmp in range(1, 10):\n",
    "        kmeans = KMeans(n_clusters=k_tmp, max_iter=1000, random_state=rand_state).fit(tmp)\n",
    "        ssd[k_tmp] = kmeans.inertia_\n",
    "        \n",
    "    fig = go.Figure()\n",
    "    fig.add_trace(\n",
    "        go.Scatter(x=list(ssd.keys()),\n",
    "                   y=list(ssd.values()),\n",
    "                   mode='lines'))\n",
    "\n",
    "    fig.update_layout(xaxis_title='Number of Clusters',\n",
    "                      yaxis_title='SSD',\n",
    "                      title=f'SSD per Number of Clusters for {col}',\n",
    "                      hovermode='x unified')\n",
    "    fig.show()\n",
    "    print(ssd)"
   ]
  },
  {
   "cell_type": "code",
   "execution_count": null,
   "id": "f429094e",
   "metadata": {
    "code_folding": [],
    "pycharm": {
     "name": "#%%\n"
    }
   },
   "outputs": [],
   "source": [
    "# Build our clusters for the R, F & M columns and add them to the dataframe\n",
    "k_range = [2,3,4]\n",
    "for k_tmp in k_range:\n",
    "    kmeans = KMeans(n_clusters=k_tmp, max_iter=1000, random_state=rand_state)\n",
    "    for col, asc in zip(rfm_log_cols, [False, True, True]):\n",
    "        df_customer = cluster_data(data=df_customer, kmeans=kmeans, cols_to_cluster=[col])\n",
    "        df_customer = relabel_clusters(data=df_customer,\n",
    "                                       cluster_col=f'{col}_Cluster_(k={k_tmp})',\n",
    "                                       cluster_col_orig=col,\n",
    "                                       ascending=asc)"
   ]
  },
  {
   "cell_type": "code",
   "execution_count": null,
   "id": "618e47ab",
   "metadata": {
    "code_folding": [],
    "pycharm": {
     "name": "#%%\n"
    }
   },
   "outputs": [],
   "source": [
    "# Visualise the clusters in order to help choose the best value of k\n",
    "k_range = [2,3,4]\n",
    "for col in rfm_cols:\n",
    "    for k_tmp in k_range:\n",
    "        fig = go.Figure()    \n",
    "        fig.add_trace(\n",
    "            go.Scatter(\n",
    "                x=df_customer[col], y=np.random.randint(low=0, high=100, size=len(df_customer)), mode='markers',\n",
    "                marker_color=df_customer[f'{col}_log_Cluster_(k={k_tmp})'], marker_colorscale='plotly3',\n",
    "                hovertemplate=f'{col}'+': %{x}'\n",
    "                              '<extra></extra>'\n",
    "            )\n",
    "        )\n",
    "        \n",
    "        fig.update_layout(\n",
    "            xaxis_title=col, title=f'{col} Values in {k_tmp} Clusters',\n",
    "            yaxis = go.layout.YAxis(title='Random Scatter', showticklabels=False)\n",
    "        )\n",
    "        fig.show()"
   ]
  },
  {
   "cell_type": "markdown",
   "id": "aa3260c1",
   "metadata": {
    "pycharm": {
     "name": "#%% md\n"
    }
   },
   "source": [
    "## Scritt 3 Bonus: Die R, F, M Spalten auf einmal Clustern"
   ]
  },
  {
   "cell_type": "code",
   "execution_count": null,
   "id": "804e015b",
   "metadata": {
    "pycharm": {
     "name": "#%%\n"
    }
   },
   "outputs": [],
   "source": [
    "# Bring all three columns into the same scale\n",
    "scaler = StandardScaler(with_mean=True, with_std=True)\n",
    "\n",
    "for col in rfm_log_cols:\n",
    "    scaler.fit(df_customer[[col]])\n",
    "    df_customer[f'{col}_scaled'] = scaler.transform(df_customer[[col]])\n",
    "    \n",
    "rfm_cols_scaled = [f'{col}_scaled' for col in rfm_log_cols]\n",
    "df_customer[rfm_cols_scaled].describe().round(2)"
   ]
  },
  {
   "cell_type": "code",
   "execution_count": null,
   "id": "79fa9f6f",
   "metadata": {
    "pycharm": {
     "name": "#%%\n"
    }
   },
   "outputs": [],
   "source": [
    "# Build a cluster over all three R,F,M columns at once\n",
    "k=2\n",
    "kmeans = KMeans(n_clusters=k, max_iter=1000, random_state=rand_state)\n",
    "\n",
    "df_customer = cluster_data(data=df_customer,\n",
    "                           kmeans=kmeans,\n",
    "                           cols_to_cluster=rfm_cols_scaled)\n",
    "df_customer.rename(columns={\n",
    "    f'Recency_log_scaled_Frequency_log_scaled_MonetaryValue_log_scaled_Cluster_(k={k})':f'Multi_Cluster_(k={k})'\n",
    "}, inplace=True\n",
    ")\n",
    "\n",
    "df_customer = relabel_clusters(data=df_customer,\n",
    "                               cluster_col=f'Multi_Cluster_(k={k})',\n",
    "                               cluster_col_orig='MonetaryValue',\n",
    "                               ascending=True)"
   ]
  },
  {
   "attachments": {
    "image.png": {
     "image/png": "[encoded data removed]"
    }
   },
   "cell_type": "markdown",
   "id": "b628d8a9",
   "metadata": {
    "pycharm": {
     "name": "#%% md\n"
    }
   },
   "source": [
    "__Challenge: Visualisierung von Feature Kombinationen mit Plotly und Itertools__\n",
    "\n",
    "Zeichnen Sie für alle Kombinationen von zwei Features, die mit den drei Features in unserer Multicluster-Spalte möglich sind, ein Streudiagramm mit einem Feature pro x- und y-Achse. Jedes FEature sollte die Chance haben, in der gleichen Kombination auf der x- und der x-Achse zu liegen. Das heißt, in einem Diagramm:\n",
    "\n",
    "X = Merkmal_A, Y = Merkmal_B\n",
    "\n",
    "und in einem anderen Diagramm:\n",
    "\n",
    "X = Merkmal_B, Y = Merkmal_A\n",
    "\n",
    "und dies sollte (in beliebiger Reihenfolge) für alle möglichen Kombinationen von zwei Featuesr wiederholt werden.\n",
    "\n",
    "Sie können die anderen Streudiagramme, die wir im Laufe dieses Kurses erstellt haben, als Leitfaden verwenden, um alle go.Scatter()-Parameter zu füllen, nämlich x, y, mode und marker_color. Und vergessen Sie nicht, Achsentitel und einen Plot-Titel mit fig.update_layout() hinzuzufügen.\n",
    "\n",
    "Und hier noch ein letzter Tipp: Sie können permutations() aus der itertools-Library verwenden, um Merkmalskombinationen zu erzeugen. Sie können die Liste der RFM-Spalten übergeben und r=2 angeben, d. h. Sie möchten, dass Kombinationen der Länge 2 erzeugt werden, etwa so:\n",
    "\n",
    "list(itertools.permutations(rfm_cols_scaled, r=2))\n",
    "\n",
    "\n",
    "Das Endergebnis sollte in etwa so aussehen:\n",
    "\n",
    "![image.png](attachment:image.png)"
   ]
  },
  {
   "cell_type": "code",
   "execution_count": null,
   "id": "b7a9fda7",
   "metadata": {
    "pycharm": {
     "name": "#%%\n"
    }
   },
   "outputs": [],
   "source": [
    "# Generate variable combinations to visualise\n",
    "var_combos = list(itertools.permutations(rfm_cols_scaled, r=2))\n",
    "var_combos"
   ]
  },
  {
   "cell_type": "code",
   "execution_count": null,
   "id": "bc0d6cb8",
   "metadata": {
    "pycharm": {
     "name": "#%%\n"
    }
   },
   "outputs": [],
   "source": [
    "# Visualise clusters per variable permutation\n",
    "for var_combo in var_combos:\n",
    "    fig = go.Figure()\n",
    "    fig.add_trace(\n",
    "        go.Scatter(x=df_customer[var_combo[0]],\n",
    "                   y=df_customer[var_combo[1]],\n",
    "                   mode='markers',\n",
    "                   marker_color=df_customer[f'Multi_Cluster_(k={k})'])\n",
    "    )\n",
    "    fig.update_layout(xaxis_title=var_combo[0],\n",
    "                      yaxis_title=var_combo[1],\n",
    "                      title=f'Clusters for {var_combo[0]} and {var_combo[1]}',\n",
    "                      hovermode='x unified')\n",
    "    fig.show()"
   ]
  },
  {
   "cell_type": "markdown",
   "id": "064d6bf2",
   "metadata": {
    "pycharm": {
     "name": "#%% md\n"
    }
   },
   "source": [
    "## Schritt 4: Berechnung der Gesamtpunktzahl pro Kunde"
   ]
  },
  {
   "cell_type": "code",
   "execution_count": null,
   "id": "4adadb7f",
   "metadata": {
    "code_folding": [],
    "pycharm": {
     "name": "#%%\n"
    }
   },
   "outputs": [],
   "source": [
    "# Calculate overall scores\n",
    "k = 2\n",
    "df_customer['OverallScore'] = (df_customer[f'Recency_log_Cluster_(k={k})']\n",
    "                           + df_customer[f'Frequency_log_Cluster_(k={k})']\n",
    "                           + df_customer[f'MonetaryValue_log_Cluster_(k={k})'])\n",
    "                           \n",
    "df_customer.groupby('OverallScore')[['Recency','Frequency','MonetaryValue']].mean()"
   ]
  },
  {
   "cell_type": "code",
   "execution_count": null,
   "id": "57278d28",
   "metadata": {
    "pycharm": {
     "name": "#%%\n"
    }
   },
   "outputs": [],
   "source": [
    "# Visualise the number of customers per score (helps in assigning Tiers)\n",
    "pd.DataFrame(df_customer.value_counts('OverallScore')).reset_index().sort_values(by='OverallScore')"
   ]
  },
  {
   "cell_type": "code",
   "execution_count": null,
   "id": "950d4e95",
   "metadata": {
    "pycharm": {
     "name": "#%%\n"
    }
   },
   "outputs": [],
   "source": [
    "# Visualise the distributions of OverallScore (helps in assigning Tiers)\n",
    "for col in rfm_cols:\n",
    "    fig = go.Figure()\n",
    "    for score in sorted(df_customer['OverallScore'].unique()):\n",
    "        fig.add_trace(go.Box(y=df_customer.loc[df_customer['OverallScore'] == score][col], name=f'Score={score}'))\n",
    "    fig.update_layout(title=f'Score distributions for {col}')\n",
    "    fig.show()"
   ]
  },
  {
   "cell_type": "code",
   "execution_count": null,
   "id": "714a3f85",
   "metadata": {
    "code_folding": [],
    "pycharm": {
     "name": "#%%\n"
    }
   },
   "outputs": [],
   "source": [
    "# Assign customers to tiers; show how many customers we have per tier\n",
    "df_customer['Tier'] = 'Low-Value'\n",
    "df_customer.loc[df_customer['OverallScore'] == 1,'Tier'] = 'Mid-Value' \n",
    "df_customer.loc[df_customer['OverallScore'] >= 2,'Tier'] = 'High-Value'"
   ]
  },
  {
   "cell_type": "markdown",
   "id": "ebd4d562",
   "metadata": {
    "pycharm": {
     "name": "#%% md\n"
    }
   },
   "source": [
    "## Schritt 5: Der LTV-Werte für die nächsten N Monate berechnen\n",
    "\n",
    "Nun wollen wir den LTV der Kunden für die nächsten Monate (also, für die Kunden, die nach unserem ursprünglichen Cutoff-Date gekauft haben) berechnen. In diesem Fall ist der LTV einfach der MonetaryValue; in anderen Beispielen aus der Praxis könnten wir Kosteninformationen berücksichtigen, da einige Kunden vielleicht dazu neigen, Artikel zu kaufen, die dem Unternehmen mehr Kosten verursachen als andere Artikel. Beispiele für diese Kosten:\n",
    "- die Kosten der verkauften Waren sein (wie viel es das Unternehmen kostet, den zu verkaufenden Artikel zu erwerben)\n",
    "- Lagerkosten\n",
    "- Werbekosten\n",
    "- Versandkosten und so weiter."
   ]
  },
  {
   "cell_type": "code",
   "execution_count": null,
   "id": "d0181148",
   "metadata": {
    "code_folding": [],
    "pycharm": {
     "name": "#%%\n"
    }
   },
   "outputs": [],
   "source": [
    "# Calculate MonetaryValue and create a new dataframe for it\n",
    "df_post['MonetaryValue_post'] = df_post['UnitPrice'] * df_post['Quantity']\n",
    "df_customer_post = (df_post\n",
    "                    .groupby('CustomerID')['MonetaryValue_post']\n",
    "                    .sum()\n",
    "                    .reset_index())\n",
    "df_customer_post.columns = ['CustomerID','MonetaryValue_post']"
   ]
  },
  {
   "cell_type": "code",
   "execution_count": null,
   "id": "8ce66de8",
   "metadata": {
    "code_folding": [],
    "pycharm": {
     "name": "#%%\n"
    }
   },
   "outputs": [],
   "source": [
    "# Visualise MonetaryValue_post values\n",
    "title = f'Monetary Value ({datetime.date(df_post.InvoiceDate.min())} to {datetime.date(df_post.InvoiceDate.max())})'\n",
    "\n",
    "plot_histogram(data=df_customer_post['MonetaryValue_post'], x_title='', y_title='', title=title)"
   ]
  },
  {
   "cell_type": "code",
   "execution_count": null,
   "id": "20b68676",
   "metadata": {
    "pycharm": {
     "name": "#%%\n"
    }
   },
   "outputs": [],
   "source": [
    "# Handle the negative and 0-valued MonetaryValue_post rows\n",
    "print(f\"Num. rows where MonetaryValue_post < 0: {len(df_customer_post[df_customer_post['MonetaryValue_post'] < 0])}\")\n",
    "print(f\"Num. rows where MonetaryValue_post == 0: {len(df_customer_post[df_customer_post['MonetaryValue_post'] == 0])}\")\n",
    "df_customer_post = df_customer_post[df_customer_post['MonetaryValue_post'] >= 0]\n",
    "df_customer_post['MonetaryValue_post'] += 1"
   ]
  },
  {
   "cell_type": "code",
   "execution_count": null,
   "id": "68e5b198",
   "metadata": {
    "code_folding": [],
    "pycharm": {
     "name": "#%%\n"
    }
   },
   "outputs": [],
   "source": [
    "# Log transform MonetaryValue_post\n",
    "df_customer_post['MonetaryValue_post_log'] = np.log10(df_customer_post[['MonetaryValue_post']])"
   ]
  },
  {
   "cell_type": "code",
   "execution_count": null,
   "id": "82add34f",
   "metadata": {
    "code_folding": [],
    "pycharm": {
     "name": "#%%\n"
    }
   },
   "outputs": [],
   "source": [
    "# Visualise transformed MonetaryValue_post values\n",
    "title = f'MonetaryValue (log) ({datetime.date(df_post.InvoiceDate.min())} to {datetime.date(df_post.InvoiceDate.max())})'\n",
    "\n",
    "plot_histogram(data=df_customer_post['MonetaryValue_post_log'], x_title='', y_title='', title=title)"
   ]
  },
  {
   "cell_type": "code",
   "execution_count": null,
   "id": "f6358d31",
   "metadata": {
    "code_folding": [],
    "pycharm": {
     "name": "#%%\n"
    }
   },
   "outputs": [],
   "source": [
    "# Combine the original df_customer with the df_customer_post data\n",
    "\n",
    "# Join df_customer_post onto df_customer, keeping the keys of df_customer\n",
    "# This will produce rows with NaN for MonetaryValue_post(_log) \n",
    "# (i.e. customers who were in df_customer_post but not df_customer)\n",
    "# We will fill these with zeros\n",
    "df_merged = pd.merge(df_customer, df_customer_post, on='CustomerID', how='left').fillna(0)\n",
    "df_merged.sample(5)"
   ]
  },
  {
   "cell_type": "markdown",
   "id": "fa446f87",
   "metadata": {
    "pycharm": {
     "name": "#%% md\n"
    }
   },
   "source": [
    "Das Ziel unseres maschinellen Lernmodells wird es sein, vorherzusagen, in welche Stufe jeder Kunde fällt. Auch hier werden wir K-Means-Clustering verwenden, um LTV-Gruppen zu bestimmen und daraus Segmente zu ermitteln. "
   ]
  },
  {
   "cell_type": "markdown",
   "id": "6f221c6a",
   "metadata": {
    "pycharm": {
     "name": "#%% md\n"
    }
   },
   "source": [
    "## Schritt 6: LTV-Clusters als unsere Trainingsetiketten erstellen\n",
    "\n",
    "Wenn wir einen tatsächlichen Wert für den LTV vorhersagen wollten, wäre es ein Problem der linearen Regression. Aber das ist es nicht; wir wollen Segmente vorhersagen, da diese nützlicher sind. Daher werden wir die Segmente als Trainingsetiketten verwenden."
   ]
  },
  {
   "cell_type": "code",
   "execution_count": null,
   "id": "3a50ef62",
   "metadata": {
    "code_folding": [],
    "pycharm": {
     "name": "#%%\n"
    }
   },
   "outputs": [],
   "source": [
    "# Cluster our MonetaryValue_post_log values\n",
    "k = 3 # We have chosen 3 because we have 3 customer tiers\n",
    "kmeans = KMeans(n_clusters=k, max_iter=1000, random_state=rand_state)\n",
    "df_merged = cluster_data(data=df_merged,\n",
    "                         kmeans=kmeans,\n",
    "                         cols_to_cluster=['MonetaryValue_post_log'])\n",
    "\n",
    "df_merged.rename(columns={f'MonetaryValue_post_log_Cluster_(k={k})':'LTV_Cluster'}, inplace=True)\n",
    "\n",
    "df_merged = relabel_clusters(data=df_merged,\n",
    "                            cluster_col='LTV_Cluster',\n",
    "                            cluster_col_orig='MonetaryValue_post',\n",
    "                            ascending=True)"
   ]
  },
  {
   "cell_type": "code",
   "execution_count": null,
   "id": "52b1202b",
   "metadata": {
    "pycharm": {
     "name": "#%%\n"
    }
   },
   "outputs": [],
   "source": [
    "# Visualise the number of customers per LTV cluster\n",
    "pd.DataFrame(df_merged.value_counts('LTV_Cluster')).reset_index().sort_values(by='LTV_Cluster')"
   ]
  },
  {
   "cell_type": "markdown",
   "id": "f8558f0e",
   "metadata": {
    "pycharm": {
     "name": "#%% md\n"
    }
   },
   "source": [
    "## Schritt 7: Der Daten für das maschinelle Lernmodell vorbereiten"
   ]
  },
  {
   "cell_type": "code",
   "execution_count": null,
   "id": "6f012505",
   "metadata": {
    "code_folding": [],
    "pycharm": {
     "name": "#%%\n"
    }
   },
   "outputs": [],
   "source": [
    "# Encode the 'Tier' column using sklearn's OneHotEncoder\n",
    "encoder = OneHotEncoder(handle_unknown=\"ignore\", sparse=False)\n",
    "df_tier = df_merged[['Tier']]\n",
    "encoder.fit(df_tier)\n",
    "df_tier = encoder.transform(df_tier)\n",
    "df_tier = pd.DataFrame(df_tier, columns=encoder.get_feature_names_out())\n",
    "df_tier.sample(5)"
   ]
  },
  {
   "cell_type": "code",
   "execution_count": null,
   "id": "d1cfe3a0",
   "metadata": {
    "code_folding": [],
    "pycharm": {
     "name": "#%%\n"
    }
   },
   "outputs": [],
   "source": [
    "# Combine the new one-hot encoded columns with the rest of the data\n",
    "df_merged = pd.concat([df_merged, df_tier], axis=1)"
   ]
  },
  {
   "cell_type": "markdown",
   "id": "11bd5140",
   "metadata": {
    "pycharm": {
     "name": "#%% md\n"
    }
   },
   "source": [
    "Es ist wichtig, die Beziehung zwischen den Merkmalen in unserem Datensatz und unserer Zielvariablen, LTV_Cluster, zu verstehen. Wir werden daher die Korrelationen betrachten.\n",
    "\n",
    "Wir werden die Spearman-Korrelationsmethode verwenden, da sie für ordinale Daten wie LTV-Cluster konzipiert ist. Wir werden keine Korrelationen für \"CustomerID\", \"MonetaryValue_post\", \"MonetaryValue_post_log\" darstellen. Die ersten beiden sind irrelevant, die beiden letzteren wurden zur Erstellung des LTV-Clusters verwendet, so dass sie natürlich korreliert sind. "
   ]
  },
  {
   "cell_type": "code",
   "execution_count": null,
   "id": "52d3adde",
   "metadata": {
    "code_folding": [],
    "pycharm": {
     "name": "#%%\n"
    }
   },
   "outputs": [],
   "source": [
    "# Calculate correlations between features and target\n",
    "corr_cols = list(set(df_merged.columns) - {'CustomerID', 'MonetaryValue_post', 'MonetaryValue_post_log'})\n",
    "corr_method='spearman'\n",
    "corr = df_merged[corr_cols].corr(method=corr_method)\n",
    "pd.DataFrame(corr['LTV_Cluster'].sort_values(ascending=False))"
   ]
  },
  {
   "cell_type": "code",
   "execution_count": null,
   "id": "f438a0f0",
   "metadata": {
    "code_folding": [],
    "pycharm": {
     "name": "#%%\n"
    }
   },
   "outputs": [],
   "source": [
    "# Plot the feature correlations\n",
    "fig = go.Figure()\n",
    "fig.add_trace(\n",
    "    go.Heatmap(\n",
    "        z=corr,\n",
    "        x=corr.columns,\n",
    "        y=corr.columns\n",
    "    )\n",
    ")\n",
    "\n",
    "fig.update_layout(title=f'{corr_method.title()} Feature Correlations',\n",
    "                  height=700,\n",
    "                  yaxis_nticks=len(corr))"
   ]
  },
  {
   "cell_type": "markdown",
   "id": "2c48f49b",
   "metadata": {
    "pycharm": {
     "name": "#%% md\n"
    }
   },
   "source": [
    "## Schritt 8: Erstellung und Training des maschinellen Lernmodells"
   ]
  },
  {
   "cell_type": "markdown",
   "id": "993bcf61",
   "metadata": {
    "pycharm": {
     "name": "#%% md\n"
    }
   },
   "source": [
    "__Challenge: Festlegung der Grundgenauigkeit des Modells__\n",
    "\n",
    "Bevor wir fortfahren, wollen wir sehen, wie hoch die Mindestgenauigkeit (minimum accuracy) sein wird. Dies ist die Größe des größten Clusters in unserem Datensatz, denn wenn wir davon ausgehen, dass jeder Eintrag in diesem Cluster ist, würde die Genauigkeit der proportionalen Größe dieses Clusters entsprechen. Dies müssen wir bei der Bewertung unseres Modells berücksichtigen.\n",
    "\n",
    "Für diese Aufgabe möchte ich, dass Sie die Basisgenauigkeit in Prozent für unser Modell herausfinden. Das bedeutet, dass Sie den prozentualen Anteil jedes Clusters an unseren Daten ermitteln sollen. Der resultierende Datenrahmen sollte die Spalten LTV_Cluster, Count, Pct_Size (d.h. den Prozentsatz des gesamten Datenrahmens, der in jeden Cluster fällt) enthalten. Es bleibt Ihnen überlassen, ob Sie Pct_Size als Dezimalzahl, als Prozentsatz oder als formatierte Zeichenkette darstellen, z. B. 0.10 == 10 == '10%'.\n",
    "\n",
    "Es gibt verschiedene Möglichkeiten, wie Sie dieses Problem lösen können. Hier sind einige Tipps für drei verschiedene mögliche Lösungen, die mir vorschweben. Sie müssen natürlich nicht alle (oder irgendeinen!) dieser Tipps anwenden, wichtig ist nur, dass wir am Ende das gleiche Ergebnis erhalten:\n",
    "\n",
    "- Tipps für eine mögliche Lösung A:\n",
    "    - len(df) liefert die Länge eines Datenrahmens, auch einer temporären Ansicht eines Datenrahmens\n",
    "    - df['spaltenname'].unique() liefert die eindeutigen Werte in einer Spalte, z. B. der 'Cluster' spalte\n",
    "    - eine for-Schleife kann nützlich sein, um eine Schleife über eindeutige Werte zu ziehen\n",
    "    - query oder loc können verwendet werden, um eine temporäre Ansicht eines Datenrahmens auszuwählen, bei der eine bestimmte Spalte einem bestimmten Wert entspricht\n",
    "\n",
    "\n",
    "- Tipps für eine mögliche Lösung B:\n",
    "    - value_counts() liefert die Anzahl der Werte einer bestimmten Spalte\n",
    "    - Sie können eine neue Spalte erstellen, indem Sie eine wiederholte mathematische Funktion über alle Zeilen ausführen, z. B. df['my_col_times_two'] = df['my_col'] * 2\n",
    "    - Sie können auch eine neue Spalte durch 'assign' mit einer Lambda-Funktion erstellen\n",
    "\n",
    "\n",
    "- Tipps für eine mögliche Lösung C:\n",
    "    - value_counts(normalize=True) gibt die Anzahl der Werte einer bestimmten Spalte als Prozentsatz an\n",
    "    - Mit pd.concat([df_a, df_b], axis=1, keys=['Count', 'Pct_Size']) können Sie zwei Datenrahmen verbinden, die die Spalten \"Count\" und \"Pct_Size\" enthalten"
   ]
  },
  {
   "cell_type": "code",
   "execution_count": null,
   "id": "5cd8d777",
   "metadata": {
    "code_folding": [],
    "pycharm": {
     "name": "#%%\n"
    }
   },
   "outputs": [],
   "source": [
    "# Challenge Solution (I've chosen solution B): Establish the Baseline Model Accuracy\n",
    "\n",
    "(pd.DataFrame(df_merged.LTV_Cluster.value_counts())\n",
    " # Produces a df with the count of each cluster label, e.g:\n",
    " #     LTV_Cluster\n",
    " # 1   1057\n",
    " # 2   562\n",
    " # ... ...\n",
    " \n",
    " .reset_index()\n",
    " # Produces a df whose columns need renaming\n",
    " #      index LTV_Cluster\n",
    " # 0    1     1057\n",
    " # 1    2     562\n",
    " # ... ...\n",
    " \n",
    " .rename(columns={'index': 'LTV_Cluster', 'LTV_Cluster' : 'Count'})\n",
    " # The df still needs a percentage for each cluster size\n",
    " \n",
    " .assign(Pct_Size=lambda x: (x['Count']/len(df_merged)*100)))\n",
    "# assign takes a new column name (Pct_Size) and an expression.\n",
    "# Here we divide each Count value by lenth of the data and then * 100"
   ]
  },
  {
   "cell_type": "code",
   "execution_count": null,
   "id": "4c585bcf",
   "metadata": {
    "code_folding": [],
    "pycharm": {
     "name": "#%%\n"
    }
   },
   "outputs": [],
   "source": [
    "# Split data into a training and test set\n",
    "test_size = 0.20\n",
    "X_train_split, X_test_split, y_train, y_test \\\n",
    "= train_test_split(df_merged,\n",
    "                   df_merged['LTV_Cluster'],\n",
    "                   test_size=test_size,\n",
    "                   random_state=rand_state)\n",
    "print(f\"Train set length: {len(X_train_split)};  test set length: {len(X_test_split)}\")"
   ]
  },
  {
   "cell_type": "code",
   "execution_count": null,
   "id": "bf3dee60",
   "metadata": {
    "pycharm": {
     "name": "#%%\n"
    }
   },
   "outputs": [],
   "source": [
    "# X_train_split and X_test_split contain all features; we will use this for examining the model errors later\n",
    "# But we need to drop the following columns for the actual train and test data\n",
    "\n",
    "# Our train and test set, used for model evaluation\n",
    "X_train = X_train_split.drop(columns=[\n",
    "    'LTV_Cluster', 'MonetaryValue_post', 'MonetaryValue_post_log', 'Tier', 'CustomerID'\n",
    "])\n",
    "X_test = X_test_split.drop(columns=[\n",
    "    'LTV_Cluster', 'MonetaryValue_post', 'MonetaryValue_post_log', 'Tier', 'CustomerID'\n",
    "])\n",
    "\n",
    "# Our input data, used for GridSearch CrossValidation\n",
    "X = df_merged.drop(columns=[\n",
    "    'LTV_Cluster', 'MonetaryValue_post', 'MonetaryValue_post_log', 'Tier', 'CustomerID'\n",
    "])\n",
    "y = df_merged['LTV_Cluster']"
   ]
  },
  {
   "cell_type": "code",
   "execution_count": null,
   "id": "cb9c49ec",
   "metadata": {
    "pycharm": {
     "name": "#%%\n"
    }
   },
   "outputs": [],
   "source": [
    "# Create a model and hyperparameter grid\n",
    "\n",
    "rf_model = RandomForestClassifier(random_state=rand_state)\n",
    "\n",
    "# See all hyperparameter options at:\n",
    "# https://scikit-learn.org/stable/modules/generated/sklearn.ensemble.RandomForestClassifier.html\n",
    "\n",
    "param_grid = {\n",
    "     # Number of trees in the forest. Default = 100\n",
    "    'n_estimators': [10, 100, 500],\n",
    "     # Num. features to consider when looking for the best split. Default=auto (which takes sqrt(n_features))\n",
    "    'max_features': ['auto', 10, None],\n",
    "     # Max tree depth. Default=None\n",
    "    'max_depth' : [5, 10, 100, None],\n",
    "    # If bootstrap is True (it is by default), the number of samples to draw from X to train each tree\n",
    "    # If given as a float, draws max_samples * len(X), i.e. 1.0 would draw all samples\n",
    "    'max_samples': [0.8, 1.0]\n",
    "}"
   ]
  },
  {
   "cell_type": "code",
   "execution_count": null,
   "id": "59ff4dc6",
   "metadata": {
    "pycharm": {
     "name": "#%%\n"
    }
   },
   "outputs": [],
   "source": [
    "# Alternative: start with a simple param_grid and set verbose=2, to get a feeling for the fit speed on your PC\n",
    "# param_grid = {\n",
    "#      # Number of trees in the forest. Default = 100\n",
    "#     'n_estimators': [500],\n",
    "#      # Num. features to consider when looking for the best split. Default=auto (which takes sqrt(n_features))\n",
    "#     'max_features': [None],\n",
    "#      # Max tree depth. Default=None\n",
    "#     'max_depth' : [None],\n",
    "#     # If bootstrap is True (it is by default), the number of samples to draw from X to train each tree\n",
    "#     # If given as a float, draws max_samples * len(X), i.e. 1.0 would draw all samples\n",
    "#     'max_samples': [1.0]\n",
    "# }"
   ]
  },
  {
   "cell_type": "code",
   "execution_count": null,
   "id": "aa45e1d3",
   "metadata": {
    "pycharm": {
     "name": "#%%\n"
    },
    "scrolled": false
   },
   "outputs": [],
   "source": [
    "# Fit model using GridSearch hyperparameter tuning with Cross-Validation\n",
    "cv = KFold(n_splits=10, shuffle=True)\n",
    "grid_search = GridSearchCV(cv=cv, estimator=rf_model, param_grid=param_grid, verbose=1)\n",
    "grid_search.fit(X, y)"
   ]
  },
  {
   "cell_type": "markdown",
   "id": "d2b28d10",
   "metadata": {
    "pycharm": {
     "name": "#%% md\n"
    }
   },
   "source": [
    "## Schritt 9: Analyse der Leistung des Modells"
   ]
  },
  {
   "cell_type": "code",
   "execution_count": null,
   "id": "a6b3b3a5",
   "metadata": {
    "pycharm": {
     "name": "#%%\n"
    }
   },
   "outputs": [],
   "source": [
    "# Retrieve best parameters and model from the Grid Search\n",
    "print(f'Best parameters: {grid_search.best_params_}')\n",
    "rf_best = grid_search.best_estimator_"
   ]
  },
  {
   "cell_type": "code",
   "execution_count": null,
   "id": "6a2e48a5",
   "metadata": {
    "code_folding": [],
    "pycharm": {
     "name": "#%%\n"
    }
   },
   "outputs": [],
   "source": [
    "# Print train and test accuracy\n",
    "print(f'Training set accuracy: {(rf_best.score(X_train, y_train))}')\n",
    "print(f'Test set accuracy: {rf_best.score(X_test[X_train.columns], y_test)}')"
   ]
  },
  {
   "cell_type": "code",
   "execution_count": null,
   "id": "85110947",
   "metadata": {
    "pycharm": {
     "name": "#%%\n"
    }
   },
   "outputs": [],
   "source": [
    "# Display confusion matrix\n",
    "y_pred = rf_best.predict(X_test)\n",
    "\n",
    "df_confusion_matrix = pd.DataFrame(confusion_matrix(y_true=y_test, y_pred=y_pred))\n",
    "print('Confusion Matrix (predicted class = horizontal; actual class = vertical):')\n",
    "display(df_confusion_matrix)"
   ]
  },
  {
   "attachments": {
    "image.png": {
     "image/png": "[encoded data removed]"
    }
   },
   "cell_type": "markdown",
   "id": "23767cf2",
   "metadata": {
    "pycharm": {
     "name": "#%% md\n"
    }
   },
   "source": [
    "__Challenge: Precision and Recall Berechnen__\n",
    "\n",
    "Berechnen Sie die Präzision und den Recall für jede Klasse. Zur Erinnerung:\n",
    "\n",
    "Precision = TP / (TP + FP)\n",
    "Recall = TP / (TP + FN)\n",
    "\n",
    "E.g. für Klass 0:\n",
    "Precision = 99 / (99 + 66 + 21) = 53%\n",
    "\n",
    "Recall = 99 / (99 + 43 + 17) = 62%\n",
    "\n",
    "__Bonus Exercise__:\n",
    "\n",
    "Sie können auch den F1-Wert berechnen, der das harmonische Mittel (Harmonic mean)* von Precision und Recall ist. Die Formel lautet:\n",
    "\n",
    "![image.png](attachment:image.png)\n",
    "\n",
    "\n",
    "Der F1-Score für die Klasse 0 berechnet sich zum Beispiel als 2 * (0,532258*0,622642/(0,532258+0,622642)) = 0,573913.\n",
    "\n",
    "Das Ergebnis wird immer zwischen 0 und 1 liegen; ein höherer Wert ist besser.\n",
    "\n",
    ".* Harmonic mean: https://en.wikipedia.org/wiki/Harmonic_mean"
   ]
  },
  {
   "cell_type": "code",
   "execution_count": null,
   "id": "66e149f4",
   "metadata": {
    "pycharm": {
     "name": "#%%\n"
    }
   },
   "outputs": [],
   "source": [
    "# Challenge Solution: Calculate Precision and Recall using the classification report\n",
    "\n",
    "# In sklearn's classification_report, Precision and F-score are set to 0.0 in labels with no predicted samples,\n",
    "# and a warning is raised. Setting zero_division=1 ignores this (re-run with zero_division=0 to see the warning)\n",
    "classification_rep = classification_report(y_true=y_test, y_pred=y_pred, output_dict=True, zero_division=1) \n",
    "print('Classification report:')\n",
    "display(pd.DataFrame(classification_rep).T)"
   ]
  },
  {
   "cell_type": "markdown",
   "id": "1b7c687d",
   "metadata": {
    "pycharm": {
     "name": "#%% md\n"
    }
   },
   "source": [
    "## Schritt 10: Verbesserung des Modells\n",
    "\n",
    "Hier sind nur ein paar Codeschnipsel, die Sie ausprobieren können."
   ]
  },
  {
   "cell_type": "code",
   "execution_count": null,
   "id": "21336c3d",
   "metadata": {
    "pycharm": {
     "name": "#%%\n"
    }
   },
   "outputs": [],
   "source": [
    "# View misclassified examples\n",
    "misclassifications = y_pred != y_test\n",
    "X_test_split.loc[misclassifications, :]"
   ]
  },
  {
   "cell_type": "code",
   "execution_count": null,
   "id": "6e303622",
   "metadata": {
    "pycharm": {
     "name": "#%%\n"
    },
    "scrolled": false
   },
   "outputs": [],
   "source": [
    "# Compare mean values for misclassifications (e.g. false negatives for cluster 2) versus true data of that label\n",
    "false_negatives_level_2 = (y_test == 2) & (y_pred != y_test)\n",
    "false_negatives_level_2_df = X_test_split.loc[false_negatives_level_2, :]\n",
    "\n",
    "print(f'Mean values where LTV Cluster == 2:')\n",
    "display(pd.DataFrame(df_merged.loc[df_merged['LTV_Cluster'] == 2].select_dtypes(np.number).mean()).T)\n",
    "\n",
    "print(f'Mean values for False Negatives for LTV Cluster 2:')\n",
    "display(pd.DataFrame(false_negatives_level_2_df.select_dtypes(np.number).mean()).T)"
   ]
  },
  {
   "cell_type": "code",
   "execution_count": null,
   "id": "35b20377",
   "metadata": {
    "pycharm": {
     "name": "#%%\n"
    }
   },
   "outputs": [],
   "source": [
    "# Ideas for additional frequency features (would need to be calculated wiith the original R,F,M columns)\n",
    "\n",
    "# Frequency / Lifespan (note the +1 is necessary to avoid division by zero errors)\n",
    "df_customer['Frequency_over_Lifespan'] = df_customer['Frequency'] / (df_customer['Lifespan'] + 1)\n",
    "\n",
    "# Number of item-day combinations, i.e. how many unique items are bought per purchase?\n",
    "# Reflects the fact that there is one row per item bought per day\n",
    "df_item_day_combinations = df_pre.groupby('CustomerID').InvoiceDate.count().reset_index()\n",
    "df_item_day_combinations.columns = ['CustomerID','Item_day_Combinations']\n",
    "df_customer = pd.merge(df_customer, df_item_day_combinations, on='CustomerID')\n",
    "\n",
    "# Another idea would be to incorporate a feature describing the sum of item quantities per day\n",
    "# i.e. how many total items are bought per purchase?"
   ]
  },
  {
   "cell_type": "code",
   "execution_count": null,
   "id": "313b1abd",
   "metadata": {
    "pycharm": {
     "name": "#%%\n"
    }
   },
   "outputs": [],
   "source": [
    "# Hint for how to try another model, e.g. XGBoost Multiclassification Model\n",
    "# You can of course try a hyperparameter search, see the options at:\n",
    "# https://xgboost.readthedocs.io/en/stable/parameter.html\n",
    "\n",
    "xgb_model = xgb.XGBClassifier(max_depth=5,\n",
    "                              learning_rate=0.1,\n",
    "                              objective='multi:softprob', # Multiclass classification with softmax probabilities\n",
    "                              eval_metric='mlogloss', # Multiclass Log Loss; the default for this objective\n",
    "                              n_jobs=-1,\n",
    "                              use_label_encoder=False)\n",
    "\n",
    "xgb_model.fit(X_train, y_train)\n",
    "\n",
    "# Print train and test accuracy, and classification report\n",
    "print(f'Training set accuracy: {(xgb_model.score(X_train, y_train))}')\n",
    "print(f'Test set accuracy: {xgb_model.score(X_test[X_train.columns], y_test)}')\n",
    "\n",
    "y_pred_xgb = xgb_model.predict(X_test)\n",
    "\n",
    "classification_rep = classification_report(y_true=y_test, y_pred=y_pred_xgb, output_dict=True, zero_division=1) \n",
    "print('Classification report:')\n",
    "display(pd.DataFrame(classification_rep).T)\n",
    "\n",
    "# Display prediction confusion matrix\n",
    "df_confusion_matrix = pd.DataFrame(confusion_matrix(y_true=y_test, y_pred=y_pred_xgb))\n",
    "print('Confusion Matrix (predicted class = horizontal; actual class = vertical):')\n",
    "display(df_confusion_matrix)"
   ]
  }
 ],
 "metadata": {
  "kernelspec": {
   "display_name": "Python 3 (ipykernel)",
   "language": "python",
   "name": "python3"
  },
  "language_info": {
   "codemirror_mode": {
    "name": "ipython",
    "version": 3
   },
   "file_extension": ".py",
   "mimetype": "text/x-python",
   "name": "python",
   "nbconvert_exporter": "python",
   "pygments_lexer": "ipython3",
   "version": "3.8.10"
  }
 },
 "nbformat": 4,
 "nbformat_minor": 5
}